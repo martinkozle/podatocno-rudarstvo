{
 "cells": [
  {
   "cell_type": "markdown",
   "metadata": {
    "pycharm": {
     "name": "#%% md\n"
    }
   },
   "source": [
    "# Logistic Regression"
   ]
  },
  {
   "cell_type": "markdown",
   "metadata": {},
   "source": [
    "## Imports"
   ]
  },
  {
   "cell_type": "code",
   "execution_count": 1,
   "metadata": {
    "collapsed": false,
    "jupyter": {
     "outputs_hidden": false
    },
    "pycharm": {
     "name": "#%%\n"
    }
   },
   "outputs": [],
   "source": [
    "import matplotlib.pyplot as plt\n",
    "import numpy as np\n",
    "import pandas as pd\n",
    "import seaborn as sns\n",
    "from sklearn.linear_model import LogisticRegression\n",
    "from sklearn.metrics import classification_report, confusion_matrix, accuracy_score\n",
    "from sklearn.model_selection import train_test_split, KFold, cross_val_score\n",
    "from sklearn.discriminant_analysis import LinearDiscriminantAnalysis, QuadraticDiscriminantAnalysis\n",
    "from sklearn.utils import resample\n",
    "from sklearn.feature_selection import SelectFromModel\n",
    "from sklearn.preprocessing import LabelEncoder, StandardScaler\n",
    "from sklearn.tree import DecisionTreeClassifier\n",
    "from sklearn.neighbors import KNeighborsClassifier\n",
    "from sklearn.ensemble import BaggingClassifier, VotingClassifier, AdaBoostClassifier\n",
    "from sklearn.metrics import accuracy_score, f1_score"
   ]
  },
  {
   "cell_type": "markdown",
   "metadata": {},
   "source": [
    "## Load data"
   ]
  },
  {
   "cell_type": "code",
   "execution_count": 2,
   "metadata": {
    "collapsed": false,
    "jupyter": {
     "outputs_hidden": false
    },
    "pycharm": {
     "name": "#%%\n"
    }
   },
   "outputs": [
    {
     "data": {
      "text/html": [
       "<div>\n",
       "<style scoped>\n",
       "    .dataframe tbody tr th:only-of-type {\n",
       "        vertical-align: middle;\n",
       "    }\n",
       "\n",
       "    .dataframe tbody tr th {\n",
       "        vertical-align: top;\n",
       "    }\n",
       "\n",
       "    .dataframe thead th {\n",
       "        text-align: right;\n",
       "    }\n",
       "</style>\n",
       "<table border=\"1\" class=\"dataframe\">\n",
       "  <thead>\n",
       "    <tr style=\"text-align: right;\">\n",
       "      <th></th>\n",
       "      <th>danceability</th>\n",
       "      <th>energy</th>\n",
       "      <th>key</th>\n",
       "      <th>loudness</th>\n",
       "      <th>mode</th>\n",
       "      <th>speechiness</th>\n",
       "      <th>acousticness</th>\n",
       "      <th>instrumentalness</th>\n",
       "      <th>liveness</th>\n",
       "      <th>valence</th>\n",
       "      <th>tempo</th>\n",
       "      <th>duration_ms</th>\n",
       "      <th>time_signature</th>\n",
       "      <th>chorus_hit</th>\n",
       "      <th>sections</th>\n",
       "      <th>target</th>\n",
       "      <th>decade</th>\n",
       "      <th>genre</th>\n",
       "    </tr>\n",
       "  </thead>\n",
       "  <tbody>\n",
       "    <tr>\n",
       "      <th>1</th>\n",
       "      <td>0.498</td>\n",
       "      <td>0.505</td>\n",
       "      <td>3</td>\n",
       "      <td>-12.475</td>\n",
       "      <td>1</td>\n",
       "      <td>0.0337</td>\n",
       "      <td>0.0180</td>\n",
       "      <td>0.107000</td>\n",
       "      <td>0.1760</td>\n",
       "      <td>0.797</td>\n",
       "      <td>101.801</td>\n",
       "      <td>213613</td>\n",
       "      <td>4</td>\n",
       "      <td>48.82510</td>\n",
       "      <td>10</td>\n",
       "      <td>0</td>\n",
       "      <td>60</td>\n",
       "      <td>pop</td>\n",
       "    </tr>\n",
       "    <tr>\n",
       "      <th>6</th>\n",
       "      <td>0.662</td>\n",
       "      <td>0.272</td>\n",
       "      <td>0</td>\n",
       "      <td>-18.883</td>\n",
       "      <td>1</td>\n",
       "      <td>0.0313</td>\n",
       "      <td>0.3600</td>\n",
       "      <td>0.228000</td>\n",
       "      <td>0.0963</td>\n",
       "      <td>0.591</td>\n",
       "      <td>143.507</td>\n",
       "      <td>134360</td>\n",
       "      <td>4</td>\n",
       "      <td>47.82155</td>\n",
       "      <td>7</td>\n",
       "      <td>0</td>\n",
       "      <td>60</td>\n",
       "      <td>jazz</td>\n",
       "    </tr>\n",
       "    <tr>\n",
       "      <th>9</th>\n",
       "      <td>0.511</td>\n",
       "      <td>0.603</td>\n",
       "      <td>2</td>\n",
       "      <td>-7.637</td>\n",
       "      <td>1</td>\n",
       "      <td>0.0280</td>\n",
       "      <td>0.0385</td>\n",
       "      <td>0.000002</td>\n",
       "      <td>0.1420</td>\n",
       "      <td>0.685</td>\n",
       "      <td>128.336</td>\n",
       "      <td>157293</td>\n",
       "      <td>4</td>\n",
       "      <td>43.36534</td>\n",
       "      <td>9</td>\n",
       "      <td>1</td>\n",
       "      <td>60</td>\n",
       "      <td>pop</td>\n",
       "    </tr>\n",
       "    <tr>\n",
       "      <th>11</th>\n",
       "      <td>0.520</td>\n",
       "      <td>0.411</td>\n",
       "      <td>9</td>\n",
       "      <td>-12.411</td>\n",
       "      <td>1</td>\n",
       "      <td>0.0315</td>\n",
       "      <td>0.7860</td>\n",
       "      <td>0.001200</td>\n",
       "      <td>0.1460</td>\n",
       "      <td>0.350</td>\n",
       "      <td>120.290</td>\n",
       "      <td>207573</td>\n",
       "      <td>4</td>\n",
       "      <td>37.54527</td>\n",
       "      <td>9</td>\n",
       "      <td>1</td>\n",
       "      <td>60</td>\n",
       "      <td>pop</td>\n",
       "    </tr>\n",
       "    <tr>\n",
       "      <th>13</th>\n",
       "      <td>0.746</td>\n",
       "      <td>0.666</td>\n",
       "      <td>2</td>\n",
       "      <td>-10.408</td>\n",
       "      <td>1</td>\n",
       "      <td>0.1460</td>\n",
       "      <td>0.5430</td>\n",
       "      <td>0.000000</td>\n",
       "      <td>0.0488</td>\n",
       "      <td>0.840</td>\n",
       "      <td>94.024</td>\n",
       "      <td>192427</td>\n",
       "      <td>4</td>\n",
       "      <td>78.59848</td>\n",
       "      <td>5</td>\n",
       "      <td>1</td>\n",
       "      <td>60</td>\n",
       "      <td>country</td>\n",
       "    </tr>\n",
       "  </tbody>\n",
       "</table>\n",
       "</div>"
      ],
      "text/plain": [
       "    danceability  energy  key  loudness  mode  speechiness  acousticness  \\\n",
       "1          0.498   0.505    3   -12.475     1       0.0337        0.0180   \n",
       "6          0.662   0.272    0   -18.883     1       0.0313        0.3600   \n",
       "9          0.511   0.603    2    -7.637     1       0.0280        0.0385   \n",
       "11         0.520   0.411    9   -12.411     1       0.0315        0.7860   \n",
       "13         0.746   0.666    2   -10.408     1       0.1460        0.5430   \n",
       "\n",
       "    instrumentalness  liveness  valence    tempo  duration_ms  time_signature  \\\n",
       "1           0.107000    0.1760    0.797  101.801       213613               4   \n",
       "6           0.228000    0.0963    0.591  143.507       134360               4   \n",
       "9           0.000002    0.1420    0.685  128.336       157293               4   \n",
       "11          0.001200    0.1460    0.350  120.290       207573               4   \n",
       "13          0.000000    0.0488    0.840   94.024       192427               4   \n",
       "\n",
       "    chorus_hit  sections  target  decade    genre  \n",
       "1     48.82510        10       0      60      pop  \n",
       "6     47.82155         7       0      60     jazz  \n",
       "9     43.36534         9       1      60      pop  \n",
       "11    37.54527         9       1      60      pop  \n",
       "13    78.59848         5       1      60  country  "
      ]
     },
     "execution_count": 2,
     "metadata": {},
     "output_type": "execute_result"
    }
   ],
   "source": [
    "df = pd.read_csv('data/dataset.csv')\n",
    "df = df[df['genre'].notnull()]\n",
    "df = df.drop(['track', 'artist', 'uri'], axis=1)\n",
    "df.head(5)"
   ]
  },
  {
   "cell_type": "markdown",
   "metadata": {},
   "source": [
    "## Scale data"
   ]
  },
  {
   "cell_type": "code",
   "execution_count": 3,
   "metadata": {},
   "outputs": [
    {
     "data": {
      "text/html": [
       "<div>\n",
       "<style scoped>\n",
       "    .dataframe tbody tr th:only-of-type {\n",
       "        vertical-align: middle;\n",
       "    }\n",
       "\n",
       "    .dataframe tbody tr th {\n",
       "        vertical-align: top;\n",
       "    }\n",
       "\n",
       "    .dataframe thead th {\n",
       "        text-align: right;\n",
       "    }\n",
       "</style>\n",
       "<table border=\"1\" class=\"dataframe\">\n",
       "  <thead>\n",
       "    <tr style=\"text-align: right;\">\n",
       "      <th></th>\n",
       "      <th>danceability</th>\n",
       "      <th>energy</th>\n",
       "      <th>key</th>\n",
       "      <th>loudness</th>\n",
       "      <th>mode</th>\n",
       "      <th>speechiness</th>\n",
       "      <th>acousticness</th>\n",
       "      <th>instrumentalness</th>\n",
       "      <th>liveness</th>\n",
       "      <th>valence</th>\n",
       "      <th>tempo</th>\n",
       "      <th>duration_ms</th>\n",
       "      <th>time_signature</th>\n",
       "      <th>chorus_hit</th>\n",
       "      <th>sections</th>\n",
       "      <th>target</th>\n",
       "      <th>decade</th>\n",
       "      <th>genre</th>\n",
       "    </tr>\n",
       "  </thead>\n",
       "  <tbody>\n",
       "    <tr>\n",
       "      <th>1</th>\n",
       "      <td>-0.436492</td>\n",
       "      <td>-0.585931</td>\n",
       "      <td>-0.627031</td>\n",
       "      <td>-0.835991</td>\n",
       "      <td>0.635356</td>\n",
       "      <td>-0.468221</td>\n",
       "      <td>-0.877471</td>\n",
       "      <td>0.089023</td>\n",
       "      <td>-0.107561</td>\n",
       "      <td>0.890630</td>\n",
       "      <td>-0.687838</td>\n",
       "      <td>-0.277328</td>\n",
       "      <td>0.203458</td>\n",
       "      <td>0.485542</td>\n",
       "      <td>-0.149679</td>\n",
       "      <td>0</td>\n",
       "      <td>60</td>\n",
       "      <td>pop</td>\n",
       "    </tr>\n",
       "    <tr>\n",
       "      <th>6</th>\n",
       "      <td>0.577487</td>\n",
       "      <td>-1.635045</td>\n",
       "      <td>-1.471757</td>\n",
       "      <td>-2.397885</td>\n",
       "      <td>0.635356</td>\n",
       "      <td>-0.503058</td>\n",
       "      <td>0.311075</td>\n",
       "      <td>0.621477</td>\n",
       "      <td>-0.592326</td>\n",
       "      <td>0.059415</td>\n",
       "      <td>0.814564</td>\n",
       "      <td>-1.171178</td>\n",
       "      <td>0.203458</td>\n",
       "      <td>0.431078</td>\n",
       "      <td>-0.971765</td>\n",
       "      <td>0</td>\n",
       "      <td>60</td>\n",
       "      <td>jazz</td>\n",
       "    </tr>\n",
       "    <tr>\n",
       "      <th>9</th>\n",
       "      <td>-0.356116</td>\n",
       "      <td>-0.144672</td>\n",
       "      <td>-0.908606</td>\n",
       "      <td>0.343230</td>\n",
       "      <td>0.635356</td>\n",
       "      <td>-0.550959</td>\n",
       "      <td>-0.806228</td>\n",
       "      <td>-0.381817</td>\n",
       "      <td>-0.314361</td>\n",
       "      <td>0.438707</td>\n",
       "      <td>0.268050</td>\n",
       "      <td>-0.912530</td>\n",
       "      <td>0.203458</td>\n",
       "      <td>0.189235</td>\n",
       "      <td>-0.423707</td>\n",
       "      <td>1</td>\n",
       "      <td>60</td>\n",
       "      <td>pop</td>\n",
       "    </tr>\n",
       "    <tr>\n",
       "      <th>11</th>\n",
       "      <td>-0.300470</td>\n",
       "      <td>-1.009178</td>\n",
       "      <td>1.062421</td>\n",
       "      <td>-0.820391</td>\n",
       "      <td>0.635356</td>\n",
       "      <td>-0.500155</td>\n",
       "      <td>1.791545</td>\n",
       "      <td>-0.376543</td>\n",
       "      <td>-0.290032</td>\n",
       "      <td>-0.913025</td>\n",
       "      <td>-0.021797</td>\n",
       "      <td>-0.345450</td>\n",
       "      <td>0.203458</td>\n",
       "      <td>-0.126626</td>\n",
       "      <td>-0.423707</td>\n",
       "      <td>1</td>\n",
       "      <td>60</td>\n",
       "      <td>pop</td>\n",
       "    </tr>\n",
       "    <tr>\n",
       "      <th>13</th>\n",
       "      <td>1.096842</td>\n",
       "      <td>0.138994</td>\n",
       "      <td>-0.908606</td>\n",
       "      <td>-0.332177</td>\n",
       "      <td>0.635356</td>\n",
       "      <td>1.161878</td>\n",
       "      <td>0.947052</td>\n",
       "      <td>-0.381824</td>\n",
       "      <td>-0.881238</td>\n",
       "      <td>1.064136</td>\n",
       "      <td>-0.967994</td>\n",
       "      <td>-0.516273</td>\n",
       "      <td>0.203458</td>\n",
       "      <td>2.101373</td>\n",
       "      <td>-1.519822</td>\n",
       "      <td>1</td>\n",
       "      <td>60</td>\n",
       "      <td>country</td>\n",
       "    </tr>\n",
       "    <tr>\n",
       "      <th>...</th>\n",
       "      <td>...</td>\n",
       "      <td>...</td>\n",
       "      <td>...</td>\n",
       "      <td>...</td>\n",
       "      <td>...</td>\n",
       "      <td>...</td>\n",
       "      <td>...</td>\n",
       "      <td>...</td>\n",
       "      <td>...</td>\n",
       "      <td>...</td>\n",
       "      <td>...</td>\n",
       "      <td>...</td>\n",
       "      <td>...</td>\n",
       "      <td>...</td>\n",
       "      <td>...</td>\n",
       "      <td>...</td>\n",
       "      <td>...</td>\n",
       "      <td>...</td>\n",
       "    </tr>\n",
       "    <tr>\n",
       "      <th>41097</th>\n",
       "      <td>-1.030040</td>\n",
       "      <td>0.274073</td>\n",
       "      <td>0.780846</td>\n",
       "      <td>1.034968</td>\n",
       "      <td>-1.573921</td>\n",
       "      <td>-0.307098</td>\n",
       "      <td>-0.774603</td>\n",
       "      <td>-0.381824</td>\n",
       "      <td>2.641670</td>\n",
       "      <td>-1.409333</td>\n",
       "      <td>2.134867</td>\n",
       "      <td>0.055160</td>\n",
       "      <td>-2.950450</td>\n",
       "      <td>-0.452732</td>\n",
       "      <td>0.124350</td>\n",
       "      <td>1</td>\n",
       "      <td>10</td>\n",
       "      <td>pop</td>\n",
       "    </tr>\n",
       "    <tr>\n",
       "      <th>41098</th>\n",
       "      <td>0.534207</td>\n",
       "      <td>-0.014096</td>\n",
       "      <td>-0.908606</td>\n",
       "      <td>1.034237</td>\n",
       "      <td>0.635356</td>\n",
       "      <td>-0.247584</td>\n",
       "      <td>-0.874344</td>\n",
       "      <td>-0.381824</td>\n",
       "      <td>-0.738911</td>\n",
       "      <td>-0.521628</td>\n",
       "      <td>-0.028173</td>\n",
       "      <td>-0.560643</td>\n",
       "      <td>0.203458</td>\n",
       "      <td>0.632233</td>\n",
       "      <td>-0.697736</td>\n",
       "      <td>1</td>\n",
       "      <td>10</td>\n",
       "      <td>pop</td>\n",
       "    </tr>\n",
       "    <tr>\n",
       "      <th>41099</th>\n",
       "      <td>0.268347</td>\n",
       "      <td>0.773865</td>\n",
       "      <td>1.343996</td>\n",
       "      <td>1.519770</td>\n",
       "      <td>0.635356</td>\n",
       "      <td>-0.469672</td>\n",
       "      <td>-0.768000</td>\n",
       "      <td>-0.303936</td>\n",
       "      <td>-0.563738</td>\n",
       "      <td>-0.719344</td>\n",
       "      <td>0.113760</td>\n",
       "      <td>0.024787</td>\n",
       "      <td>0.203458</td>\n",
       "      <td>2.785570</td>\n",
       "      <td>-0.971765</td>\n",
       "      <td>1</td>\n",
       "      <td>10</td>\n",
       "      <td>pop</td>\n",
       "    </tr>\n",
       "    <tr>\n",
       "      <th>41103</th>\n",
       "      <td>0.929906</td>\n",
       "      <td>0.760357</td>\n",
       "      <td>1.343996</td>\n",
       "      <td>1.088104</td>\n",
       "      <td>0.635356</td>\n",
       "      <td>-0.442092</td>\n",
       "      <td>-0.894153</td>\n",
       "      <td>-0.381811</td>\n",
       "      <td>-0.332608</td>\n",
       "      <td>0.115906</td>\n",
       "      <td>-0.032280</td>\n",
       "      <td>-0.117772</td>\n",
       "      <td>0.203458</td>\n",
       "      <td>-1.039007</td>\n",
       "      <td>-0.971765</td>\n",
       "      <td>1</td>\n",
       "      <td>10</td>\n",
       "      <td>pop</td>\n",
       "    </tr>\n",
       "    <tr>\n",
       "      <th>41104</th>\n",
       "      <td>0.194153</td>\n",
       "      <td>-2.062795</td>\n",
       "      <td>0.499270</td>\n",
       "      <td>-1.712241</td>\n",
       "      <td>0.635356</td>\n",
       "      <td>-0.143072</td>\n",
       "      <td>2.497027</td>\n",
       "      <td>3.437760</td>\n",
       "      <td>-0.271785</td>\n",
       "      <td>-0.065670</td>\n",
       "      <td>-0.031163</td>\n",
       "      <td>-0.279877</td>\n",
       "      <td>0.203458</td>\n",
       "      <td>-0.989115</td>\n",
       "      <td>0.946436</td>\n",
       "      <td>0</td>\n",
       "      <td>10</td>\n",
       "      <td>jazz</td>\n",
       "    </tr>\n",
       "  </tbody>\n",
       "</table>\n",
       "<p>20307 rows × 18 columns</p>\n",
       "</div>"
      ],
      "text/plain": [
       "       danceability    energy       key  loudness      mode  speechiness  \\\n",
       "1         -0.436492 -0.585931 -0.627031 -0.835991  0.635356    -0.468221   \n",
       "6          0.577487 -1.635045 -1.471757 -2.397885  0.635356    -0.503058   \n",
       "9         -0.356116 -0.144672 -0.908606  0.343230  0.635356    -0.550959   \n",
       "11        -0.300470 -1.009178  1.062421 -0.820391  0.635356    -0.500155   \n",
       "13         1.096842  0.138994 -0.908606 -0.332177  0.635356     1.161878   \n",
       "...             ...       ...       ...       ...       ...          ...   \n",
       "41097     -1.030040  0.274073  0.780846  1.034968 -1.573921    -0.307098   \n",
       "41098      0.534207 -0.014096 -0.908606  1.034237  0.635356    -0.247584   \n",
       "41099      0.268347  0.773865  1.343996  1.519770  0.635356    -0.469672   \n",
       "41103      0.929906  0.760357  1.343996  1.088104  0.635356    -0.442092   \n",
       "41104      0.194153 -2.062795  0.499270 -1.712241  0.635356    -0.143072   \n",
       "\n",
       "       acousticness  instrumentalness  liveness   valence     tempo  \\\n",
       "1         -0.877471          0.089023 -0.107561  0.890630 -0.687838   \n",
       "6          0.311075          0.621477 -0.592326  0.059415  0.814564   \n",
       "9         -0.806228         -0.381817 -0.314361  0.438707  0.268050   \n",
       "11         1.791545         -0.376543 -0.290032 -0.913025 -0.021797   \n",
       "13         0.947052         -0.381824 -0.881238  1.064136 -0.967994   \n",
       "...             ...               ...       ...       ...       ...   \n",
       "41097     -0.774603         -0.381824  2.641670 -1.409333  2.134867   \n",
       "41098     -0.874344         -0.381824 -0.738911 -0.521628 -0.028173   \n",
       "41099     -0.768000         -0.303936 -0.563738 -0.719344  0.113760   \n",
       "41103     -0.894153         -0.381811 -0.332608  0.115906 -0.032280   \n",
       "41104      2.497027          3.437760 -0.271785 -0.065670 -0.031163   \n",
       "\n",
       "       duration_ms  time_signature  chorus_hit  sections  target  decade  \\\n",
       "1        -0.277328        0.203458    0.485542 -0.149679       0      60   \n",
       "6        -1.171178        0.203458    0.431078 -0.971765       0      60   \n",
       "9        -0.912530        0.203458    0.189235 -0.423707       1      60   \n",
       "11       -0.345450        0.203458   -0.126626 -0.423707       1      60   \n",
       "13       -0.516273        0.203458    2.101373 -1.519822       1      60   \n",
       "...            ...             ...         ...       ...     ...     ...   \n",
       "41097     0.055160       -2.950450   -0.452732  0.124350       1      10   \n",
       "41098    -0.560643        0.203458    0.632233 -0.697736       1      10   \n",
       "41099     0.024787        0.203458    2.785570 -0.971765       1      10   \n",
       "41103    -0.117772        0.203458   -1.039007 -0.971765       1      10   \n",
       "41104    -0.279877        0.203458   -0.989115  0.946436       0      10   \n",
       "\n",
       "         genre  \n",
       "1          pop  \n",
       "6         jazz  \n",
       "9          pop  \n",
       "11         pop  \n",
       "13     country  \n",
       "...        ...  \n",
       "41097      pop  \n",
       "41098      pop  \n",
       "41099      pop  \n",
       "41103      pop  \n",
       "41104     jazz  \n",
       "\n",
       "[20307 rows x 18 columns]"
      ]
     },
     "execution_count": 3,
     "metadata": {},
     "output_type": "execute_result"
    }
   ],
   "source": [
    "scaler = StandardScaler()\n",
    "scale_columns = ['danceability', 'energy', 'key', 'loudness', 'mode', 'speechiness',\n",
    "       'acousticness', 'instrumentalness', 'liveness', 'valence', 'tempo',\n",
    "       'duration_ms', 'time_signature', 'chorus_hit', 'sections']\n",
    "df[scale_columns] = scaler.fit_transform(df[scale_columns])\n",
    "df"
   ]
  },
  {
   "cell_type": "markdown",
   "metadata": {},
   "source": [
    "## Helper functions"
   ]
  },
  {
   "cell_type": "code",
   "execution_count": 4,
   "metadata": {},
   "outputs": [],
   "source": [
    "def plot_heatmap(y_test, y_pred):\n",
    "    conf_matrix_nb = pd.crosstab(\n",
    "        y_test,\n",
    "        y_pred,\n",
    "        rownames=['Actual'],\n",
    "        colnames=['Predicted']\n",
    "    )\n",
    "    sns.heatmap(conf_matrix_nb)"
   ]
  },
  {
   "cell_type": "markdown",
   "metadata": {},
   "source": [
    "## Logistic regression - \"is pop\""
   ]
  },
  {
   "cell_type": "markdown",
   "metadata": {},
   "source": [
    "### Original data"
   ]
  },
  {
   "cell_type": "markdown",
   "metadata": {},
   "source": [
    "#### Preprocessing "
   ]
  },
  {
   "cell_type": "code",
   "execution_count": 5,
   "metadata": {},
   "outputs": [],
   "source": [
    "X = df.drop(['decade', 'genre', 'target'], axis=1)\n",
    "y = df['genre'] == 'pop'\n",
    "X_train, X_test, y_train, y_test = train_test_split(X, y)"
   ]
  },
  {
   "cell_type": "markdown",
   "metadata": {},
   "source": [
    "#### Model"
   ]
  },
  {
   "cell_type": "code",
   "execution_count": 6,
   "metadata": {},
   "outputs": [],
   "source": [
    "model = LogisticRegression(solver='liblinear', random_state=0)\n",
    "model.fit(X_train, y_train)\n",
    "y_pred = model.predict(X_test)"
   ]
  },
  {
   "cell_type": "code",
   "execution_count": 7,
   "metadata": {},
   "outputs": [
    {
     "name": "stdout",
     "output_type": "stream",
     "text": [
      "Accuracy: 0.6450659838487296\n",
      "              precision    recall  f1-score   support\n",
      "\n",
      "       False       0.66      0.94      0.77      3263\n",
      "        True       0.51      0.11      0.19      1814\n",
      "\n",
      "    accuracy                           0.65      5077\n",
      "   macro avg       0.59      0.53      0.48      5077\n",
      "weighted avg       0.61      0.65      0.56      5077\n",
      "\n"
     ]
    },
    {
     "data": {
      "image/png": "[encoded data removed]",
      "text/plain": [
       "<Figure size 432x288 with 2 Axes>"
      ]
     },
     "metadata": {
      "needs_background": "light"
     },
     "output_type": "display_data"
    }
   ],
   "source": [
    "print(f\"Accuracy: {accuracy_score(y_test, y_pred)}\")\n",
    "print(classification_report(y_test, y_pred))\n",
    "plot_heatmap(y_test, y_pred)"
   ]
  },
  {
   "cell_type": "code",
   "execution_count": 8,
   "metadata": {},
   "outputs": [
    {
     "name": "stdout",
     "output_type": "stream",
     "text": [
      "True: 404\n",
      "False: 4673\n"
     ]
    }
   ],
   "source": [
    "print(f'True: {(y_pred == True).sum()}')\n",
    "print(f'False: {(y_pred == False).sum()}')"
   ]
  },
  {
   "cell_type": "markdown",
   "metadata": {},
   "source": [
    "#### Conclusion"
   ]
  },
  {
   "cell_type": "markdown",
   "metadata": {},
   "source": [
    "The model has bad results"
   ]
  },
  {
   "cell_type": "markdown",
   "metadata": {},
   "source": [
    "### Feature selection"
   ]
  },
  {
   "cell_type": "markdown",
   "metadata": {},
   "source": [
    "Maybe we have too many X columns"
   ]
  },
  {
   "cell_type": "markdown",
   "metadata": {},
   "source": [
    "#### Preprocessing"
   ]
  },
  {
   "cell_type": "code",
   "execution_count": 9,
   "metadata": {},
   "outputs": [
    {
     "data": {
      "text/plain": [
       "(20307, 15)"
      ]
     },
     "execution_count": 9,
     "metadata": {},
     "output_type": "execute_result"
    }
   ],
   "source": [
    "X.shape"
   ]
  },
  {
   "cell_type": "code",
   "execution_count": 10,
   "metadata": {},
   "outputs": [
    {
     "data": {
      "text/plain": [
       "(20307, 6)"
      ]
     },
     "execution_count": 10,
     "metadata": {},
     "output_type": "execute_result"
    }
   ],
   "source": [
    "feature_selection_model = LogisticRegression(solver='liblinear', random_state=0).fit(X_train, y_train)\n",
    "model = SelectFromModel(feature_selection_model, prefit=True)\n",
    "X_new = model.transform(X)\n",
    "X_new.shape"
   ]
  },
  {
   "cell_type": "code",
   "execution_count": 11,
   "metadata": {},
   "outputs": [],
   "source": [
    "y = df['genre'] == 'pop'"
   ]
  },
  {
   "cell_type": "code",
   "execution_count": 12,
   "metadata": {},
   "outputs": [],
   "source": [
    "X_train, X_test, y_train, y_test = train_test_split(X_new, y)"
   ]
  },
  {
   "cell_type": "markdown",
   "metadata": {},
   "source": [
    "#### Model"
   ]
  },
  {
   "cell_type": "code",
   "execution_count": 13,
   "metadata": {},
   "outputs": [],
   "source": [
    "model = LogisticRegression(solver='liblinear', random_state=0)\n",
    "model.fit(X_train, y_train)\n",
    "y_pred = model.predict(X_test)"
   ]
  },
  {
   "cell_type": "code",
   "execution_count": 14,
   "metadata": {},
   "outputs": [
    {
     "name": "stdout",
     "output_type": "stream",
     "text": [
      "Accuracy: 0.640732716170967\n",
      "              precision    recall  f1-score   support\n",
      "\n",
      "       False       0.66      0.94      0.77      3320\n",
      "        True       0.39      0.07      0.12      1757\n",
      "\n",
      "    accuracy                           0.64      5077\n",
      "   macro avg       0.53      0.51      0.45      5077\n",
      "weighted avg       0.57      0.64      0.55      5077\n",
      "\n"
     ]
    },
    {
     "data": {
      "image/png": "[encoded data removed]",
      "text/plain": [
       "<Figure size 432x288 with 2 Axes>"
      ]
     },
     "metadata": {
      "needs_background": "light"
     },
     "output_type": "display_data"
    }
   ],
   "source": [
    "print(f\"Accuracy: {accuracy_score(y_test, y_pred)}\")\n",
    "print(classification_report(y_test, y_pred))\n",
    "plot_heatmap(y_test, y_pred)"
   ]
  },
  {
   "cell_type": "code",
   "execution_count": 15,
   "metadata": {},
   "outputs": [
    {
     "name": "stdout",
     "output_type": "stream",
     "text": [
      "True: 315\n",
      "False: 4762\n"
     ]
    }
   ],
   "source": [
    "print(f'True: {(y_pred == True).sum()}')\n",
    "print(f'False: {(y_pred == False).sum()}')"
   ]
  },
  {
   "cell_type": "markdown",
   "metadata": {},
   "source": [
    "#### Conclusion"
   ]
  },
  {
   "cell_type": "markdown",
   "metadata": {},
   "source": [
    "No improvement"
   ]
  },
  {
   "cell_type": "markdown",
   "metadata": {
    "pycharm": {
     "name": "#%% md\n"
    }
   },
   "source": [
    "## Logistic regression - one against many"
   ]
  },
  {
   "cell_type": "markdown",
   "metadata": {},
   "source": [
    "### Original data"
   ]
  },
  {
   "cell_type": "markdown",
   "metadata": {},
   "source": [
    "#### Preprocessing"
   ]
  },
  {
   "cell_type": "code",
   "execution_count": 16,
   "metadata": {
    "collapsed": false,
    "jupyter": {
     "outputs_hidden": false
    },
    "pycharm": {
     "name": "#%%\n"
    }
   },
   "outputs": [],
   "source": [
    "X = df.drop(['decade', 'genre', 'target'], axis=1)\n",
    "genres = df.genre.unique()\n",
    "Y = pd.DataFrame()\n",
    "Y['genre'] = df['genre']\n",
    "for genre in genres:\n",
    "    Y[genre] = df['genre'] == genre\n",
    "X_train, X_test, Y_train, Y_test = train_test_split(X, Y)"
   ]
  },
  {
   "cell_type": "markdown",
   "metadata": {},
   "source": [
    "#### Model"
   ]
  },
  {
   "cell_type": "code",
   "execution_count": 17,
   "metadata": {
    "collapsed": false,
    "jupyter": {
     "outputs_hidden": false
    },
    "pycharm": {
     "name": "#%%\n"
    }
   },
   "outputs": [
    {
     "data": {
      "text/html": [
       "<div>\n",
       "<style scoped>\n",
       "    .dataframe tbody tr th:only-of-type {\n",
       "        vertical-align: middle;\n",
       "    }\n",
       "\n",
       "    .dataframe tbody tr th {\n",
       "        vertical-align: top;\n",
       "    }\n",
       "\n",
       "    .dataframe thead th {\n",
       "        text-align: right;\n",
       "    }\n",
       "</style>\n",
       "<table border=\"1\" class=\"dataframe\">\n",
       "  <thead>\n",
       "    <tr style=\"text-align: right;\">\n",
       "      <th></th>\n",
       "      <th>pop</th>\n",
       "      <th>jazz</th>\n",
       "      <th>country</th>\n",
       "      <th>rock</th>\n",
       "      <th>blues</th>\n",
       "      <th>funk</th>\n",
       "      <th>hip-hop</th>\n",
       "      <th>metal</th>\n",
       "      <th>techno</th>\n",
       "      <th>max_predict</th>\n",
       "    </tr>\n",
       "  </thead>\n",
       "  <tbody>\n",
       "    <tr>\n",
       "      <th>0</th>\n",
       "      <td>0.500395</td>\n",
       "      <td>0.217033</td>\n",
       "      <td>0.204108</td>\n",
       "      <td>0.079701</td>\n",
       "      <td>0.123938</td>\n",
       "      <td>0.019447</td>\n",
       "      <td>0.004051</td>\n",
       "      <td>0.000005</td>\n",
       "      <td>0.000256</td>\n",
       "      <td>pop</td>\n",
       "    </tr>\n",
       "    <tr>\n",
       "      <th>1</th>\n",
       "      <td>0.479337</td>\n",
       "      <td>0.009875</td>\n",
       "      <td>0.043000</td>\n",
       "      <td>0.312614</td>\n",
       "      <td>0.003359</td>\n",
       "      <td>0.032853</td>\n",
       "      <td>0.027741</td>\n",
       "      <td>0.017494</td>\n",
       "      <td>0.005192</td>\n",
       "      <td>pop</td>\n",
       "    </tr>\n",
       "    <tr>\n",
       "      <th>2</th>\n",
       "      <td>0.360768</td>\n",
       "      <td>0.026898</td>\n",
       "      <td>0.167530</td>\n",
       "      <td>0.333558</td>\n",
       "      <td>0.015790</td>\n",
       "      <td>0.010489</td>\n",
       "      <td>0.001353</td>\n",
       "      <td>0.001205</td>\n",
       "      <td>0.000518</td>\n",
       "      <td>pop</td>\n",
       "    </tr>\n",
       "    <tr>\n",
       "      <th>3</th>\n",
       "      <td>0.474567</td>\n",
       "      <td>0.006417</td>\n",
       "      <td>0.296363</td>\n",
       "      <td>0.107652</td>\n",
       "      <td>0.010042</td>\n",
       "      <td>0.028433</td>\n",
       "      <td>0.380710</td>\n",
       "      <td>0.000908</td>\n",
       "      <td>0.005827</td>\n",
       "      <td>pop</td>\n",
       "    </tr>\n",
       "    <tr>\n",
       "      <th>4</th>\n",
       "      <td>0.506606</td>\n",
       "      <td>0.038162</td>\n",
       "      <td>0.247433</td>\n",
       "      <td>0.214095</td>\n",
       "      <td>0.039620</td>\n",
       "      <td>0.052488</td>\n",
       "      <td>0.005192</td>\n",
       "      <td>0.000173</td>\n",
       "      <td>0.000489</td>\n",
       "      <td>pop</td>\n",
       "    </tr>\n",
       "    <tr>\n",
       "      <th>...</th>\n",
       "      <td>...</td>\n",
       "      <td>...</td>\n",
       "      <td>...</td>\n",
       "      <td>...</td>\n",
       "      <td>...</td>\n",
       "      <td>...</td>\n",
       "      <td>...</td>\n",
       "      <td>...</td>\n",
       "      <td>...</td>\n",
       "      <td>...</td>\n",
       "    </tr>\n",
       "    <tr>\n",
       "      <th>5072</th>\n",
       "      <td>0.213948</td>\n",
       "      <td>0.141887</td>\n",
       "      <td>0.001565</td>\n",
       "      <td>0.118811</td>\n",
       "      <td>0.009928</td>\n",
       "      <td>0.345399</td>\n",
       "      <td>0.034608</td>\n",
       "      <td>0.004113</td>\n",
       "      <td>0.252453</td>\n",
       "      <td>funk</td>\n",
       "    </tr>\n",
       "    <tr>\n",
       "      <th>5073</th>\n",
       "      <td>0.432901</td>\n",
       "      <td>0.041676</td>\n",
       "      <td>0.125425</td>\n",
       "      <td>0.188746</td>\n",
       "      <td>0.054710</td>\n",
       "      <td>0.093373</td>\n",
       "      <td>0.013633</td>\n",
       "      <td>0.000057</td>\n",
       "      <td>0.000924</td>\n",
       "      <td>pop</td>\n",
       "    </tr>\n",
       "    <tr>\n",
       "      <th>5074</th>\n",
       "      <td>0.145432</td>\n",
       "      <td>0.092690</td>\n",
       "      <td>0.015132</td>\n",
       "      <td>0.123698</td>\n",
       "      <td>0.003990</td>\n",
       "      <td>0.003812</td>\n",
       "      <td>0.003076</td>\n",
       "      <td>0.018562</td>\n",
       "      <td>0.096091</td>\n",
       "      <td>pop</td>\n",
       "    </tr>\n",
       "    <tr>\n",
       "      <th>5075</th>\n",
       "      <td>0.188025</td>\n",
       "      <td>0.006357</td>\n",
       "      <td>0.051094</td>\n",
       "      <td>0.362755</td>\n",
       "      <td>0.002263</td>\n",
       "      <td>0.004657</td>\n",
       "      <td>0.023507</td>\n",
       "      <td>0.140661</td>\n",
       "      <td>0.001962</td>\n",
       "      <td>rock</td>\n",
       "    </tr>\n",
       "    <tr>\n",
       "      <th>5076</th>\n",
       "      <td>0.486486</td>\n",
       "      <td>0.014942</td>\n",
       "      <td>0.172243</td>\n",
       "      <td>0.286672</td>\n",
       "      <td>0.012593</td>\n",
       "      <td>0.036973</td>\n",
       "      <td>0.005119</td>\n",
       "      <td>0.001375</td>\n",
       "      <td>0.005101</td>\n",
       "      <td>pop</td>\n",
       "    </tr>\n",
       "  </tbody>\n",
       "</table>\n",
       "<p>5077 rows × 10 columns</p>\n",
       "</div>"
      ],
      "text/plain": [
       "           pop      jazz   country      rock     blues      funk   hip-hop  \\\n",
       "0     0.500395  0.217033  0.204108  0.079701  0.123938  0.019447  0.004051   \n",
       "1     0.479337  0.009875  0.043000  0.312614  0.003359  0.032853  0.027741   \n",
       "2     0.360768  0.026898  0.167530  0.333558  0.015790  0.010489  0.001353   \n",
       "3     0.474567  0.006417  0.296363  0.107652  0.010042  0.028433  0.380710   \n",
       "4     0.506606  0.038162  0.247433  0.214095  0.039620  0.052488  0.005192   \n",
       "...        ...       ...       ...       ...       ...       ...       ...   \n",
       "5072  0.213948  0.141887  0.001565  0.118811  0.009928  0.345399  0.034608   \n",
       "5073  0.432901  0.041676  0.125425  0.188746  0.054710  0.093373  0.013633   \n",
       "5074  0.145432  0.092690  0.015132  0.123698  0.003990  0.003812  0.003076   \n",
       "5075  0.188025  0.006357  0.051094  0.362755  0.002263  0.004657  0.023507   \n",
       "5076  0.486486  0.014942  0.172243  0.286672  0.012593  0.036973  0.005119   \n",
       "\n",
       "         metal    techno max_predict  \n",
       "0     0.000005  0.000256         pop  \n",
       "1     0.017494  0.005192         pop  \n",
       "2     0.001205  0.000518         pop  \n",
       "3     0.000908  0.005827         pop  \n",
       "4     0.000173  0.000489         pop  \n",
       "...        ...       ...         ...  \n",
       "5072  0.004113  0.252453        funk  \n",
       "5073  0.000057  0.000924         pop  \n",
       "5074  0.018562  0.096091         pop  \n",
       "5075  0.140661  0.001962        rock  \n",
       "5076  0.001375  0.005101         pop  \n",
       "\n",
       "[5077 rows x 10 columns]"
      ]
     },
     "execution_count": 17,
     "metadata": {},
     "output_type": "execute_result"
    }
   ],
   "source": [
    "models = {}\n",
    "for genre in genres:\n",
    "    models[genre] = LogisticRegression(solver='liblinear', random_state=0)\n",
    "    \n",
    "for genre in genres:\n",
    "    y_train = Y_train[genre]\n",
    "    models[genre].fit(X_train, y_train)\n",
    "    \n",
    "df_pred = pd.DataFrame()\n",
    "for genre in genres:\n",
    "    df_pred[genre] = [prob_true for prob_false, prob_true in models[genre].predict_proba(X_test)]\n",
    "\n",
    "df_pred['max_predict'] = df_pred.idxmax(axis=1)\n",
    "df_pred"
   ]
  },
  {
   "cell_type": "code",
   "execution_count": 18,
   "metadata": {
    "collapsed": false,
    "jupyter": {
     "outputs_hidden": false
    },
    "pycharm": {
     "name": "#%%\n"
    }
   },
   "outputs": [
    {
     "data": {
      "text/plain": [
       "pop        2957\n",
       "rock       1290\n",
       "hip-hop     358\n",
       "jazz        243\n",
       "metal       174\n",
       "funk         22\n",
       "techno       15\n",
       "country      12\n",
       "blues         6\n",
       "Name: max_predict, dtype: int64"
      ]
     },
     "execution_count": 18,
     "metadata": {},
     "output_type": "execute_result"
    }
   ],
   "source": [
    "df_pred['max_predict'].value_counts()"
   ]
  },
  {
   "cell_type": "code",
   "execution_count": 19,
   "metadata": {},
   "outputs": [
    {
     "data": {
      "text/html": [
       "<div>\n",
       "<style scoped>\n",
       "    .dataframe tbody tr th:only-of-type {\n",
       "        vertical-align: middle;\n",
       "    }\n",
       "\n",
       "    .dataframe tbody tr th {\n",
       "        vertical-align: top;\n",
       "    }\n",
       "\n",
       "    .dataframe thead th {\n",
       "        text-align: right;\n",
       "    }\n",
       "</style>\n",
       "<table border=\"1\" class=\"dataframe\">\n",
       "  <thead>\n",
       "    <tr style=\"text-align: right;\">\n",
       "      <th></th>\n",
       "      <th>pop</th>\n",
       "      <th>jazz</th>\n",
       "      <th>country</th>\n",
       "      <th>rock</th>\n",
       "      <th>blues</th>\n",
       "      <th>funk</th>\n",
       "      <th>hip-hop</th>\n",
       "      <th>metal</th>\n",
       "      <th>techno</th>\n",
       "      <th>max_predict</th>\n",
       "    </tr>\n",
       "  </thead>\n",
       "  <tbody>\n",
       "    <tr>\n",
       "      <th>0</th>\n",
       "      <td>0.500395</td>\n",
       "      <td>0.217033</td>\n",
       "      <td>0.204108</td>\n",
       "      <td>0.079701</td>\n",
       "      <td>0.123938</td>\n",
       "      <td>0.019447</td>\n",
       "      <td>0.004051</td>\n",
       "      <td>0.000005</td>\n",
       "      <td>0.000256</td>\n",
       "      <td>pop</td>\n",
       "    </tr>\n",
       "    <tr>\n",
       "      <th>1</th>\n",
       "      <td>0.479337</td>\n",
       "      <td>0.009875</td>\n",
       "      <td>0.043000</td>\n",
       "      <td>0.312614</td>\n",
       "      <td>0.003359</td>\n",
       "      <td>0.032853</td>\n",
       "      <td>0.027741</td>\n",
       "      <td>0.017494</td>\n",
       "      <td>0.005192</td>\n",
       "      <td>pop</td>\n",
       "    </tr>\n",
       "    <tr>\n",
       "      <th>2</th>\n",
       "      <td>0.360768</td>\n",
       "      <td>0.026898</td>\n",
       "      <td>0.167530</td>\n",
       "      <td>0.333558</td>\n",
       "      <td>0.015790</td>\n",
       "      <td>0.010489</td>\n",
       "      <td>0.001353</td>\n",
       "      <td>0.001205</td>\n",
       "      <td>0.000518</td>\n",
       "      <td>pop</td>\n",
       "    </tr>\n",
       "    <tr>\n",
       "      <th>3</th>\n",
       "      <td>0.474567</td>\n",
       "      <td>0.006417</td>\n",
       "      <td>0.296363</td>\n",
       "      <td>0.107652</td>\n",
       "      <td>0.010042</td>\n",
       "      <td>0.028433</td>\n",
       "      <td>0.380710</td>\n",
       "      <td>0.000908</td>\n",
       "      <td>0.005827</td>\n",
       "      <td>pop</td>\n",
       "    </tr>\n",
       "    <tr>\n",
       "      <th>4</th>\n",
       "      <td>0.506606</td>\n",
       "      <td>0.038162</td>\n",
       "      <td>0.247433</td>\n",
       "      <td>0.214095</td>\n",
       "      <td>0.039620</td>\n",
       "      <td>0.052488</td>\n",
       "      <td>0.005192</td>\n",
       "      <td>0.000173</td>\n",
       "      <td>0.000489</td>\n",
       "      <td>pop</td>\n",
       "    </tr>\n",
       "    <tr>\n",
       "      <th>...</th>\n",
       "      <td>...</td>\n",
       "      <td>...</td>\n",
       "      <td>...</td>\n",
       "      <td>...</td>\n",
       "      <td>...</td>\n",
       "      <td>...</td>\n",
       "      <td>...</td>\n",
       "      <td>...</td>\n",
       "      <td>...</td>\n",
       "      <td>...</td>\n",
       "    </tr>\n",
       "    <tr>\n",
       "      <th>5072</th>\n",
       "      <td>0.213948</td>\n",
       "      <td>0.141887</td>\n",
       "      <td>0.001565</td>\n",
       "      <td>0.118811</td>\n",
       "      <td>0.009928</td>\n",
       "      <td>0.345399</td>\n",
       "      <td>0.034608</td>\n",
       "      <td>0.004113</td>\n",
       "      <td>0.252453</td>\n",
       "      <td>funk</td>\n",
       "    </tr>\n",
       "    <tr>\n",
       "      <th>5073</th>\n",
       "      <td>0.432901</td>\n",
       "      <td>0.041676</td>\n",
       "      <td>0.125425</td>\n",
       "      <td>0.188746</td>\n",
       "      <td>0.054710</td>\n",
       "      <td>0.093373</td>\n",
       "      <td>0.013633</td>\n",
       "      <td>0.000057</td>\n",
       "      <td>0.000924</td>\n",
       "      <td>pop</td>\n",
       "    </tr>\n",
       "    <tr>\n",
       "      <th>5074</th>\n",
       "      <td>0.145432</td>\n",
       "      <td>0.092690</td>\n",
       "      <td>0.015132</td>\n",
       "      <td>0.123698</td>\n",
       "      <td>0.003990</td>\n",
       "      <td>0.003812</td>\n",
       "      <td>0.003076</td>\n",
       "      <td>0.018562</td>\n",
       "      <td>0.096091</td>\n",
       "      <td>pop</td>\n",
       "    </tr>\n",
       "    <tr>\n",
       "      <th>5075</th>\n",
       "      <td>0.188025</td>\n",
       "      <td>0.006357</td>\n",
       "      <td>0.051094</td>\n",
       "      <td>0.362755</td>\n",
       "      <td>0.002263</td>\n",
       "      <td>0.004657</td>\n",
       "      <td>0.023507</td>\n",
       "      <td>0.140661</td>\n",
       "      <td>0.001962</td>\n",
       "      <td>rock</td>\n",
       "    </tr>\n",
       "    <tr>\n",
       "      <th>5076</th>\n",
       "      <td>0.486486</td>\n",
       "      <td>0.014942</td>\n",
       "      <td>0.172243</td>\n",
       "      <td>0.286672</td>\n",
       "      <td>0.012593</td>\n",
       "      <td>0.036973</td>\n",
       "      <td>0.005119</td>\n",
       "      <td>0.001375</td>\n",
       "      <td>0.005101</td>\n",
       "      <td>pop</td>\n",
       "    </tr>\n",
       "  </tbody>\n",
       "</table>\n",
       "<p>5077 rows × 10 columns</p>\n",
       "</div>"
      ],
      "text/plain": [
       "           pop      jazz   country      rock     blues      funk   hip-hop  \\\n",
       "0     0.500395  0.217033  0.204108  0.079701  0.123938  0.019447  0.004051   \n",
       "1     0.479337  0.009875  0.043000  0.312614  0.003359  0.032853  0.027741   \n",
       "2     0.360768  0.026898  0.167530  0.333558  0.015790  0.010489  0.001353   \n",
       "3     0.474567  0.006417  0.296363  0.107652  0.010042  0.028433  0.380710   \n",
       "4     0.506606  0.038162  0.247433  0.214095  0.039620  0.052488  0.005192   \n",
       "...        ...       ...       ...       ...       ...       ...       ...   \n",
       "5072  0.213948  0.141887  0.001565  0.118811  0.009928  0.345399  0.034608   \n",
       "5073  0.432901  0.041676  0.125425  0.188746  0.054710  0.093373  0.013633   \n",
       "5074  0.145432  0.092690  0.015132  0.123698  0.003990  0.003812  0.003076   \n",
       "5075  0.188025  0.006357  0.051094  0.362755  0.002263  0.004657  0.023507   \n",
       "5076  0.486486  0.014942  0.172243  0.286672  0.012593  0.036973  0.005119   \n",
       "\n",
       "         metal    techno max_predict  \n",
       "0     0.000005  0.000256         pop  \n",
       "1     0.017494  0.005192         pop  \n",
       "2     0.001205  0.000518         pop  \n",
       "3     0.000908  0.005827         pop  \n",
       "4     0.000173  0.000489         pop  \n",
       "...        ...       ...         ...  \n",
       "5072  0.004113  0.252453        funk  \n",
       "5073  0.000057  0.000924         pop  \n",
       "5074  0.018562  0.096091         pop  \n",
       "5075  0.140661  0.001962        rock  \n",
       "5076  0.001375  0.005101         pop  \n",
       "\n",
       "[5077 rows x 10 columns]"
      ]
     },
     "execution_count": 19,
     "metadata": {},
     "output_type": "execute_result"
    }
   ],
   "source": [
    "df_pred"
   ]
  },
  {
   "cell_type": "code",
   "execution_count": 20,
   "metadata": {},
   "outputs": [
    {
     "name": "stdout",
     "output_type": "stream",
     "text": [
      "Accuracy: 0.4853259799093953\n",
      "              precision    recall  f1-score   support\n",
      "\n",
      "       blues       0.17      0.01      0.01       135\n",
      "     country       0.58      0.01      0.03       519\n",
      "        funk       0.59      0.05      0.09       254\n",
      "     hip-hop       0.68      0.60      0.64       401\n",
      "        jazz       0.51      0.39      0.44       315\n",
      "       metal       0.79      0.55      0.65       250\n",
      "         pop       0.43      0.73      0.54      1757\n",
      "        rock       0.51      0.47      0.49      1402\n",
      "      techno       0.47      0.16      0.24        44\n",
      "\n",
      "    accuracy                           0.49      5077\n",
      "   macro avg       0.52      0.33      0.35      5077\n",
      "weighted avg       0.51      0.49      0.44      5077\n",
      "\n"
     ]
    },
    {
     "data": {
      "image/png": "[encoded data removed]",
      "text/plain": [
       "<Figure size 432x288 with 2 Axes>"
      ]
     },
     "metadata": {
      "needs_background": "light"
     },
     "output_type": "display_data"
    }
   ],
   "source": [
    "print(f\"Accuracy: {accuracy_score(Y_test['genre'], df_pred['max_predict'])}\")\n",
    "print(classification_report(Y_test['genre'], df_pred['max_predict']))\n",
    "plot_heatmap(Y_test['genre'], df_pred['max_predict'])"
   ]
  },
  {
   "cell_type": "markdown",
   "metadata": {},
   "source": [
    "#### Conclusion "
   ]
  },
  {
   "cell_type": "markdown",
   "metadata": {},
   "source": [
    "We get really bad results for 1 against many technique with logistic regression"
   ]
  },
  {
   "cell_type": "markdown",
   "metadata": {},
   "source": [
    "### Downsampled data"
   ]
  },
  {
   "cell_type": "markdown",
   "metadata": {},
   "source": [
    "Let's see if downsampling the data helps"
   ]
  },
  {
   "cell_type": "markdown",
   "metadata": {},
   "source": [
    "#### Preprocessing"
   ]
  },
  {
   "cell_type": "code",
   "execution_count": 21,
   "metadata": {},
   "outputs": [
    {
     "data": {
      "text/html": [
       "<div>\n",
       "<style scoped>\n",
       "    .dataframe tbody tr th:only-of-type {\n",
       "        vertical-align: middle;\n",
       "    }\n",
       "\n",
       "    .dataframe tbody tr th {\n",
       "        vertical-align: top;\n",
       "    }\n",
       "\n",
       "    .dataframe thead th {\n",
       "        text-align: right;\n",
       "    }\n",
       "</style>\n",
       "<table border=\"1\" class=\"dataframe\">\n",
       "  <thead>\n",
       "    <tr style=\"text-align: right;\">\n",
       "      <th></th>\n",
       "      <th>danceability</th>\n",
       "      <th>energy</th>\n",
       "      <th>key</th>\n",
       "      <th>loudness</th>\n",
       "      <th>mode</th>\n",
       "      <th>speechiness</th>\n",
       "      <th>acousticness</th>\n",
       "      <th>instrumentalness</th>\n",
       "      <th>liveness</th>\n",
       "      <th>valence</th>\n",
       "      <th>tempo</th>\n",
       "      <th>duration_ms</th>\n",
       "      <th>time_signature</th>\n",
       "      <th>chorus_hit</th>\n",
       "      <th>sections</th>\n",
       "      <th>target</th>\n",
       "      <th>decade</th>\n",
       "      <th>genre</th>\n",
       "    </tr>\n",
       "  </thead>\n",
       "  <tbody>\n",
       "    <tr>\n",
       "      <th>0</th>\n",
       "      <td>0.738239</td>\n",
       "      <td>1.620361</td>\n",
       "      <td>0.780846</td>\n",
       "      <td>0.615977</td>\n",
       "      <td>0.635356</td>\n",
       "      <td>-0.132911</td>\n",
       "      <td>-0.934223</td>\n",
       "      <td>3.481764</td>\n",
       "      <td>1.589420</td>\n",
       "      <td>-1.683714</td>\n",
       "      <td>0.904227</td>\n",
       "      <td>0.308338</td>\n",
       "      <td>0.203458</td>\n",
       "      <td>0.719689</td>\n",
       "      <td>0.398379</td>\n",
       "      <td>0</td>\n",
       "      <td>0</td>\n",
       "      <td>techno</td>\n",
       "    </tr>\n",
       "    <tr>\n",
       "      <th>1</th>\n",
       "      <td>-0.999126</td>\n",
       "      <td>0.314596</td>\n",
       "      <td>-0.908606</td>\n",
       "      <td>0.177486</td>\n",
       "      <td>0.635356</td>\n",
       "      <td>-0.169200</td>\n",
       "      <td>1.127766</td>\n",
       "      <td>-0.255091</td>\n",
       "      <td>2.574764</td>\n",
       "      <td>0.511338</td>\n",
       "      <td>1.345697</td>\n",
       "      <td>0.238175</td>\n",
       "      <td>0.203458</td>\n",
       "      <td>-0.852323</td>\n",
       "      <td>2.042550</td>\n",
       "      <td>1</td>\n",
       "      <td>60</td>\n",
       "      <td>rock</td>\n",
       "    </tr>\n",
       "    <tr>\n",
       "      <th>2</th>\n",
       "      <td>0.274530</td>\n",
       "      <td>0.296586</td>\n",
       "      <td>-0.908606</td>\n",
       "      <td>-0.565681</td>\n",
       "      <td>0.635356</td>\n",
       "      <td>0.138530</td>\n",
       "      <td>1.645583</td>\n",
       "      <td>-0.381824</td>\n",
       "      <td>0.780465</td>\n",
       "      <td>1.564479</td>\n",
       "      <td>-0.868172</td>\n",
       "      <td>-1.233886</td>\n",
       "      <td>0.203458</td>\n",
       "      <td>-0.755789</td>\n",
       "      <td>-1.245793</td>\n",
       "      <td>1</td>\n",
       "      <td>60</td>\n",
       "      <td>country</td>\n",
       "    </tr>\n",
       "    <tr>\n",
       "      <th>3</th>\n",
       "      <td>2.110820</td>\n",
       "      <td>0.206533</td>\n",
       "      <td>-1.190181</td>\n",
       "      <td>-0.144740</td>\n",
       "      <td>-1.573921</td>\n",
       "      <td>1.263487</td>\n",
       "      <td>0.060855</td>\n",
       "      <td>-0.360834</td>\n",
       "      <td>1.084583</td>\n",
       "      <td>0.499233</td>\n",
       "      <td>-0.205661</td>\n",
       "      <td>-0.269501</td>\n",
       "      <td>0.203458</td>\n",
       "      <td>-0.533547</td>\n",
       "      <td>0.124350</td>\n",
       "      <td>1</td>\n",
       "      <td>90</td>\n",
       "      <td>hip-hop</td>\n",
       "    </tr>\n",
       "    <tr>\n",
       "      <th>4</th>\n",
       "      <td>1.121573</td>\n",
       "      <td>0.391141</td>\n",
       "      <td>-1.190181</td>\n",
       "      <td>0.049522</td>\n",
       "      <td>0.635356</td>\n",
       "      <td>-0.124201</td>\n",
       "      <td>-0.425685</td>\n",
       "      <td>-0.368799</td>\n",
       "      <td>2.878882</td>\n",
       "      <td>1.443428</td>\n",
       "      <td>-0.031451</td>\n",
       "      <td>0.042077</td>\n",
       "      <td>0.203458</td>\n",
       "      <td>0.885174</td>\n",
       "      <td>0.124350</td>\n",
       "      <td>1</td>\n",
       "      <td>70</td>\n",
       "      <td>funk</td>\n",
       "    </tr>\n",
       "    <tr>\n",
       "      <th>...</th>\n",
       "      <td>...</td>\n",
       "      <td>...</td>\n",
       "      <td>...</td>\n",
       "      <td>...</td>\n",
       "      <td>...</td>\n",
       "      <td>...</td>\n",
       "      <td>...</td>\n",
       "      <td>...</td>\n",
       "      <td>...</td>\n",
       "      <td>...</td>\n",
       "      <td>...</td>\n",
       "      <td>...</td>\n",
       "      <td>...</td>\n",
       "      <td>...</td>\n",
       "      <td>...</td>\n",
       "      <td>...</td>\n",
       "      <td>...</td>\n",
       "      <td>...</td>\n",
       "    </tr>\n",
       "    <tr>\n",
       "      <th>1453</th>\n",
       "      <td>0.404368</td>\n",
       "      <td>1.179102</td>\n",
       "      <td>1.062421</td>\n",
       "      <td>0.653269</td>\n",
       "      <td>-1.573921</td>\n",
       "      <td>-0.379676</td>\n",
       "      <td>-0.935821</td>\n",
       "      <td>3.433359</td>\n",
       "      <td>-0.363020</td>\n",
       "      <td>1.560444</td>\n",
       "      <td>-0.418345</td>\n",
       "      <td>-0.414023</td>\n",
       "      <td>0.203458</td>\n",
       "      <td>1.357484</td>\n",
       "      <td>-1.519822</td>\n",
       "      <td>1</td>\n",
       "      <td>70</td>\n",
       "      <td>funk</td>\n",
       "    </tr>\n",
       "    <tr>\n",
       "      <th>1454</th>\n",
       "      <td>-0.368481</td>\n",
       "      <td>-0.032107</td>\n",
       "      <td>0.217695</td>\n",
       "      <td>-0.760431</td>\n",
       "      <td>0.635356</td>\n",
       "      <td>-0.446447</td>\n",
       "      <td>-0.272772</td>\n",
       "      <td>-0.381806</td>\n",
       "      <td>-0.626995</td>\n",
       "      <td>-0.945305</td>\n",
       "      <td>-0.490933</td>\n",
       "      <td>0.587660</td>\n",
       "      <td>0.203458</td>\n",
       "      <td>-0.187944</td>\n",
       "      <td>0.672407</td>\n",
       "      <td>1</td>\n",
       "      <td>80</td>\n",
       "      <td>pop</td>\n",
       "    </tr>\n",
       "    <tr>\n",
       "      <th>1455</th>\n",
       "      <td>-0.009879</td>\n",
       "      <td>-0.378809</td>\n",
       "      <td>0.217695</td>\n",
       "      <td>-0.310728</td>\n",
       "      <td>0.635356</td>\n",
       "      <td>-0.481285</td>\n",
       "      <td>0.078231</td>\n",
       "      <td>-0.381824</td>\n",
       "      <td>-0.350856</td>\n",
       "      <td>-1.001796</td>\n",
       "      <td>0.091714</td>\n",
       "      <td>0.056671</td>\n",
       "      <td>0.203458</td>\n",
       "      <td>0.010924</td>\n",
       "      <td>0.124350</td>\n",
       "      <td>1</td>\n",
       "      <td>80</td>\n",
       "      <td>rock</td>\n",
       "    </tr>\n",
       "    <tr>\n",
       "      <th>1456</th>\n",
       "      <td>-0.059341</td>\n",
       "      <td>1.440255</td>\n",
       "      <td>1.343996</td>\n",
       "      <td>0.526524</td>\n",
       "      <td>-1.573921</td>\n",
       "      <td>4.964958</td>\n",
       "      <td>-0.936030</td>\n",
       "      <td>-0.299096</td>\n",
       "      <td>2.489611</td>\n",
       "      <td>-0.453033</td>\n",
       "      <td>1.874056</td>\n",
       "      <td>0.820740</td>\n",
       "      <td>0.203458</td>\n",
       "      <td>0.247495</td>\n",
       "      <td>1.494493</td>\n",
       "      <td>0</td>\n",
       "      <td>0</td>\n",
       "      <td>techno</td>\n",
       "    </tr>\n",
       "    <tr>\n",
       "      <th>1457</th>\n",
       "      <td>1.072110</td>\n",
       "      <td>-1.211797</td>\n",
       "      <td>1.343996</td>\n",
       "      <td>0.170417</td>\n",
       "      <td>-1.573921</td>\n",
       "      <td>-0.510316</td>\n",
       "      <td>0.276322</td>\n",
       "      <td>-0.381824</td>\n",
       "      <td>-0.748034</td>\n",
       "      <td>-0.707239</td>\n",
       "      <td>-0.397343</td>\n",
       "      <td>1.571139</td>\n",
       "      <td>0.203458</td>\n",
       "      <td>-0.459760</td>\n",
       "      <td>2.042550</td>\n",
       "      <td>1</td>\n",
       "      <td>90</td>\n",
       "      <td>pop</td>\n",
       "    </tr>\n",
       "  </tbody>\n",
       "</table>\n",
       "<p>1458 rows × 18 columns</p>\n",
       "</div>"
      ],
      "text/plain": [
       "      danceability    energy       key  loudness      mode  speechiness  \\\n",
       "0         0.738239  1.620361  0.780846  0.615977  0.635356    -0.132911   \n",
       "1        -0.999126  0.314596 -0.908606  0.177486  0.635356    -0.169200   \n",
       "2         0.274530  0.296586 -0.908606 -0.565681  0.635356     0.138530   \n",
       "3         2.110820  0.206533 -1.190181 -0.144740 -1.573921     1.263487   \n",
       "4         1.121573  0.391141 -1.190181  0.049522  0.635356    -0.124201   \n",
       "...            ...       ...       ...       ...       ...          ...   \n",
       "1453      0.404368  1.179102  1.062421  0.653269 -1.573921    -0.379676   \n",
       "1454     -0.368481 -0.032107  0.217695 -0.760431  0.635356    -0.446447   \n",
       "1455     -0.009879 -0.378809  0.217695 -0.310728  0.635356    -0.481285   \n",
       "1456     -0.059341  1.440255  1.343996  0.526524 -1.573921     4.964958   \n",
       "1457      1.072110 -1.211797  1.343996  0.170417 -1.573921    -0.510316   \n",
       "\n",
       "      acousticness  instrumentalness  liveness   valence     tempo  \\\n",
       "0        -0.934223          3.481764  1.589420 -1.683714  0.904227   \n",
       "1         1.127766         -0.255091  2.574764  0.511338  1.345697   \n",
       "2         1.645583         -0.381824  0.780465  1.564479 -0.868172   \n",
       "3         0.060855         -0.360834  1.084583  0.499233 -0.205661   \n",
       "4        -0.425685         -0.368799  2.878882  1.443428 -0.031451   \n",
       "...            ...               ...       ...       ...       ...   \n",
       "1453     -0.935821          3.433359 -0.363020  1.560444 -0.418345   \n",
       "1454     -0.272772         -0.381806 -0.626995 -0.945305 -0.490933   \n",
       "1455      0.078231         -0.381824 -0.350856 -1.001796  0.091714   \n",
       "1456     -0.936030         -0.299096  2.489611 -0.453033  1.874056   \n",
       "1457      0.276322         -0.381824 -0.748034 -0.707239 -0.397343   \n",
       "\n",
       "      duration_ms  time_signature  chorus_hit  sections  target  decade  \\\n",
       "0        0.308338        0.203458    0.719689  0.398379       0       0   \n",
       "1        0.238175        0.203458   -0.852323  2.042550       1      60   \n",
       "2       -1.233886        0.203458   -0.755789 -1.245793       1      60   \n",
       "3       -0.269501        0.203458   -0.533547  0.124350       1      90   \n",
       "4        0.042077        0.203458    0.885174  0.124350       1      70   \n",
       "...           ...             ...         ...       ...     ...     ...   \n",
       "1453    -0.414023        0.203458    1.357484 -1.519822       1      70   \n",
       "1454     0.587660        0.203458   -0.187944  0.672407       1      80   \n",
       "1455     0.056671        0.203458    0.010924  0.124350       1      80   \n",
       "1456     0.820740        0.203458    0.247495  1.494493       0       0   \n",
       "1457     1.571139        0.203458   -0.459760  2.042550       1      90   \n",
       "\n",
       "        genre  \n",
       "0      techno  \n",
       "1        rock  \n",
       "2     country  \n",
       "3     hip-hop  \n",
       "4        funk  \n",
       "...       ...  \n",
       "1453     funk  \n",
       "1454      pop  \n",
       "1455     rock  \n",
       "1456   techno  \n",
       "1457      pop  \n",
       "\n",
       "[1458 rows x 18 columns]"
      ]
     },
     "execution_count": 21,
     "metadata": {},
     "output_type": "execute_result"
    }
   ],
   "source": [
    "df_downsampled_list = []\n",
    "smallest_class_count = min(df.genre.value_counts())\n",
    "for i in np.unique(df.genre):\n",
    "    tmp = resample(\n",
    "        df[df.genre == i],\n",
    "        replace=False,\n",
    "        n_samples=smallest_class_count,\n",
    "        random_state=0\n",
    "    )\n",
    "    df_downsampled_list.append(tmp)\n",
    "df_downsampled = pd.concat(df_downsampled_list)\n",
    "df_downsampled = df_downsampled.sample(frac=1).reset_index(drop=True)\n",
    "df_downsampled"
   ]
  },
  {
   "cell_type": "code",
   "execution_count": 22,
   "metadata": {},
   "outputs": [],
   "source": [
    "X = df_downsampled.drop(['decade','genre','target'], axis=1)\n",
    "genres = df_downsampled.genre.unique()\n",
    "Y = pd.DataFrame()\n",
    "Y['genre'] = df_downsampled['genre']\n",
    "for genre in genres:\n",
    "    Y[genre] = df_downsampled['genre'] == genre\n",
    "X_train, X_test, Y_train, Y_test = train_test_split(X, Y)"
   ]
  },
  {
   "cell_type": "markdown",
   "metadata": {},
   "source": [
    "#### Model"
   ]
  },
  {
   "cell_type": "code",
   "execution_count": 23,
   "metadata": {},
   "outputs": [
    {
     "data": {
      "text/html": [
       "<div>\n",
       "<style scoped>\n",
       "    .dataframe tbody tr th:only-of-type {\n",
       "        vertical-align: middle;\n",
       "    }\n",
       "\n",
       "    .dataframe tbody tr th {\n",
       "        vertical-align: top;\n",
       "    }\n",
       "\n",
       "    .dataframe thead th {\n",
       "        text-align: right;\n",
       "    }\n",
       "</style>\n",
       "<table border=\"1\" class=\"dataframe\">\n",
       "  <thead>\n",
       "    <tr style=\"text-align: right;\">\n",
       "      <th></th>\n",
       "      <th>techno</th>\n",
       "      <th>rock</th>\n",
       "      <th>country</th>\n",
       "      <th>hip-hop</th>\n",
       "      <th>funk</th>\n",
       "      <th>pop</th>\n",
       "      <th>metal</th>\n",
       "      <th>jazz</th>\n",
       "      <th>blues</th>\n",
       "      <th>max_predict</th>\n",
       "    </tr>\n",
       "  </thead>\n",
       "  <tbody>\n",
       "    <tr>\n",
       "      <th>0</th>\n",
       "      <td>0.152451</td>\n",
       "      <td>0.264685</td>\n",
       "      <td>0.182224</td>\n",
       "      <td>0.016046</td>\n",
       "      <td>0.110498</td>\n",
       "      <td>0.161638</td>\n",
       "      <td>0.084121</td>\n",
       "      <td>0.014533</td>\n",
       "      <td>0.015770</td>\n",
       "      <td>rock</td>\n",
       "    </tr>\n",
       "    <tr>\n",
       "      <th>1</th>\n",
       "      <td>0.153910</td>\n",
       "      <td>0.063644</td>\n",
       "      <td>0.010720</td>\n",
       "      <td>0.080277</td>\n",
       "      <td>0.544655</td>\n",
       "      <td>0.107798</td>\n",
       "      <td>0.011297</td>\n",
       "      <td>0.071375</td>\n",
       "      <td>0.023827</td>\n",
       "      <td>funk</td>\n",
       "    </tr>\n",
       "    <tr>\n",
       "      <th>2</th>\n",
       "      <td>0.026365</td>\n",
       "      <td>0.189335</td>\n",
       "      <td>0.099750</td>\n",
       "      <td>0.010552</td>\n",
       "      <td>0.388567</td>\n",
       "      <td>0.152397</td>\n",
       "      <td>0.007570</td>\n",
       "      <td>0.062003</td>\n",
       "      <td>0.108101</td>\n",
       "      <td>funk</td>\n",
       "    </tr>\n",
       "    <tr>\n",
       "      <th>3</th>\n",
       "      <td>0.015892</td>\n",
       "      <td>0.136759</td>\n",
       "      <td>0.367624</td>\n",
       "      <td>0.007103</td>\n",
       "      <td>0.010647</td>\n",
       "      <td>0.139866</td>\n",
       "      <td>0.051233</td>\n",
       "      <td>0.054798</td>\n",
       "      <td>0.056843</td>\n",
       "      <td>country</td>\n",
       "    </tr>\n",
       "    <tr>\n",
       "      <th>4</th>\n",
       "      <td>0.040915</td>\n",
       "      <td>0.039229</td>\n",
       "      <td>0.115176</td>\n",
       "      <td>0.004928</td>\n",
       "      <td>0.005625</td>\n",
       "      <td>0.076679</td>\n",
       "      <td>0.004391</td>\n",
       "      <td>0.101112</td>\n",
       "      <td>0.046525</td>\n",
       "      <td>country</td>\n",
       "    </tr>\n",
       "    <tr>\n",
       "      <th>...</th>\n",
       "      <td>...</td>\n",
       "      <td>...</td>\n",
       "      <td>...</td>\n",
       "      <td>...</td>\n",
       "      <td>...</td>\n",
       "      <td>...</td>\n",
       "      <td>...</td>\n",
       "      <td>...</td>\n",
       "      <td>...</td>\n",
       "      <td>...</td>\n",
       "    </tr>\n",
       "    <tr>\n",
       "      <th>360</th>\n",
       "      <td>0.072354</td>\n",
       "      <td>0.176848</td>\n",
       "      <td>0.223967</td>\n",
       "      <td>0.072096</td>\n",
       "      <td>0.063472</td>\n",
       "      <td>0.163063</td>\n",
       "      <td>0.068124</td>\n",
       "      <td>0.010066</td>\n",
       "      <td>0.017184</td>\n",
       "      <td>country</td>\n",
       "    </tr>\n",
       "    <tr>\n",
       "      <th>361</th>\n",
       "      <td>0.071086</td>\n",
       "      <td>0.124280</td>\n",
       "      <td>0.033919</td>\n",
       "      <td>0.037334</td>\n",
       "      <td>0.513054</td>\n",
       "      <td>0.166157</td>\n",
       "      <td>0.007587</td>\n",
       "      <td>0.067500</td>\n",
       "      <td>0.039110</td>\n",
       "      <td>funk</td>\n",
       "    </tr>\n",
       "    <tr>\n",
       "      <th>362</th>\n",
       "      <td>0.006247</td>\n",
       "      <td>0.056741</td>\n",
       "      <td>0.000552</td>\n",
       "      <td>0.004943</td>\n",
       "      <td>0.226281</td>\n",
       "      <td>0.034318</td>\n",
       "      <td>0.112992</td>\n",
       "      <td>0.024677</td>\n",
       "      <td>0.412701</td>\n",
       "      <td>blues</td>\n",
       "    </tr>\n",
       "    <tr>\n",
       "      <th>363</th>\n",
       "      <td>0.000686</td>\n",
       "      <td>0.113121</td>\n",
       "      <td>0.317857</td>\n",
       "      <td>0.023318</td>\n",
       "      <td>0.042533</td>\n",
       "      <td>0.178334</td>\n",
       "      <td>0.002508</td>\n",
       "      <td>0.120194</td>\n",
       "      <td>0.350588</td>\n",
       "      <td>blues</td>\n",
       "    </tr>\n",
       "    <tr>\n",
       "      <th>364</th>\n",
       "      <td>0.064702</td>\n",
       "      <td>0.268402</td>\n",
       "      <td>0.029518</td>\n",
       "      <td>0.017780</td>\n",
       "      <td>0.132028</td>\n",
       "      <td>0.076650</td>\n",
       "      <td>0.070182</td>\n",
       "      <td>0.053639</td>\n",
       "      <td>0.047632</td>\n",
       "      <td>rock</td>\n",
       "    </tr>\n",
       "  </tbody>\n",
       "</table>\n",
       "<p>365 rows × 10 columns</p>\n",
       "</div>"
      ],
      "text/plain": [
       "       techno      rock   country   hip-hop      funk       pop     metal  \\\n",
       "0    0.152451  0.264685  0.182224  0.016046  0.110498  0.161638  0.084121   \n",
       "1    0.153910  0.063644  0.010720  0.080277  0.544655  0.107798  0.011297   \n",
       "2    0.026365  0.189335  0.099750  0.010552  0.388567  0.152397  0.007570   \n",
       "3    0.015892  0.136759  0.367624  0.007103  0.010647  0.139866  0.051233   \n",
       "4    0.040915  0.039229  0.115176  0.004928  0.005625  0.076679  0.004391   \n",
       "..        ...       ...       ...       ...       ...       ...       ...   \n",
       "360  0.072354  0.176848  0.223967  0.072096  0.063472  0.163063  0.068124   \n",
       "361  0.071086  0.124280  0.033919  0.037334  0.513054  0.166157  0.007587   \n",
       "362  0.006247  0.056741  0.000552  0.004943  0.226281  0.034318  0.112992   \n",
       "363  0.000686  0.113121  0.317857  0.023318  0.042533  0.178334  0.002508   \n",
       "364  0.064702  0.268402  0.029518  0.017780  0.132028  0.076650  0.070182   \n",
       "\n",
       "         jazz     blues max_predict  \n",
       "0    0.014533  0.015770        rock  \n",
       "1    0.071375  0.023827        funk  \n",
       "2    0.062003  0.108101        funk  \n",
       "3    0.054798  0.056843     country  \n",
       "4    0.101112  0.046525     country  \n",
       "..        ...       ...         ...  \n",
       "360  0.010066  0.017184     country  \n",
       "361  0.067500  0.039110        funk  \n",
       "362  0.024677  0.412701       blues  \n",
       "363  0.120194  0.350588       blues  \n",
       "364  0.053639  0.047632        rock  \n",
       "\n",
       "[365 rows x 10 columns]"
      ]
     },
     "execution_count": 23,
     "metadata": {},
     "output_type": "execute_result"
    }
   ],
   "source": [
    "models = {}\n",
    "for genre in genres:\n",
    "    models[genre] = LogisticRegression(solver='liblinear', random_state=0)\n",
    "    \n",
    "for genre in genres:\n",
    "    y_train = Y_train[genre]\n",
    "    models[genre].fit(X_train, y_train)\n",
    "    \n",
    "df_downsampled_pred = pd.DataFrame()\n",
    "for genre in genres:\n",
    "    df_downsampled_pred[genre] = [prob_true for prob_false, prob_true in models[genre].predict_proba(X_test)]\n",
    "\n",
    "df_downsampled_pred['max_predict'] = df_downsampled_pred.idxmax(axis=1)\n",
    "df_downsampled_pred"
   ]
  },
  {
   "cell_type": "code",
   "execution_count": 24,
   "metadata": {},
   "outputs": [
    {
     "data": {
      "text/plain": [
       "country    54\n",
       "funk       54\n",
       "metal      50\n",
       "hip-hop    45\n",
       "blues      44\n",
       "techno     44\n",
       "jazz       33\n",
       "rock       32\n",
       "pop         9\n",
       "Name: max_predict, dtype: int64"
      ]
     },
     "execution_count": 24,
     "metadata": {},
     "output_type": "execute_result"
    }
   ],
   "source": [
    "df_downsampled_pred['max_predict'].value_counts()"
   ]
  },
  {
   "cell_type": "code",
   "execution_count": 25,
   "metadata": {},
   "outputs": [
    {
     "name": "stdout",
     "output_type": "stream",
     "text": [
      "Accuracy: 0.4931506849315068\n",
      "              precision    recall  f1-score   support\n",
      "\n",
      "       blues       0.30      0.43      0.35        30\n",
      "     country       0.44      0.63      0.52        38\n",
      "        funk       0.33      0.53      0.41        34\n",
      "     hip-hop       0.73      0.72      0.73        46\n",
      "        jazz       0.42      0.39      0.41        36\n",
      "       metal       0.68      0.87      0.76        39\n",
      "         pop       0.11      0.02      0.04        48\n",
      "        rock       0.38      0.24      0.30        49\n",
      "      techno       0.70      0.69      0.70        45\n",
      "\n",
      "    accuracy                           0.49       365\n",
      "   macro avg       0.46      0.50      0.47       365\n",
      "weighted avg       0.46      0.49      0.46       365\n",
      "\n"
     ]
    },
    {
     "data": {
      "image/png": "[encoded data removed]",
      "text/plain": [
       "<Figure size 432x288 with 2 Axes>"
      ]
     },
     "metadata": {
      "needs_background": "light"
     },
     "output_type": "display_data"
    }
   ],
   "source": [
    "print(f\"Accuracy: {accuracy_score(Y_test['genre'], df_downsampled_pred['max_predict'])}\")\n",
    "print(classification_report(Y_test['genre'], df_downsampled_pred['max_predict']))\n",
    "plot_heatmap(Y_test['genre'], df_downsampled_pred['max_predict'])"
   ]
  },
  {
   "cell_type": "markdown",
   "metadata": {},
   "source": [
    "#### Conclusion"
   ]
  },
  {
   "cell_type": "markdown",
   "metadata": {},
   "source": [
    "Downsampling the classes to the same count doesn't improve the performance"
   ]
  },
  {
   "cell_type": "markdown",
   "metadata": {
    "pycharm": {
     "name": "#%% md\n"
    }
   },
   "source": [
    "## LDA visualisation"
   ]
  },
  {
   "cell_type": "code",
   "execution_count": 26,
   "metadata": {},
   "outputs": [],
   "source": [
    "X = df.drop(['decade','genre','target'], axis=1)\n",
    "Y = df['genre']"
   ]
  },
  {
   "cell_type": "code",
   "execution_count": 27,
   "metadata": {
    "collapsed": false,
    "jupyter": {
     "outputs_hidden": false
    },
    "pycharm": {
     "name": "#%%\n"
    }
   },
   "outputs": [],
   "source": [
    "lda = LinearDiscriminantAnalysis(n_components=2)\n",
    "lda_red = lda.fit(X, Y).transform(X)"
   ]
  },
  {
   "cell_type": "code",
   "execution_count": 28,
   "metadata": {
    "collapsed": false,
    "jupyter": {
     "outputs_hidden": false
    },
    "pycharm": {
     "name": "#%%\n"
    }
   },
   "outputs": [
    {
     "data": {
      "text/plain": [
       "<AxesSubplot:>"
      ]
     },
     "execution_count": 28,
     "metadata": {},
     "output_type": "execute_result"
    },
    {
     "data": {
      "image/png": "[encoded data removed]",
      "text/plain": [
       "<Figure size 432x288 with 1 Axes>"
      ]
     },
     "metadata": {
      "needs_background": "light"
     },
     "output_type": "display_data"
    }
   ],
   "source": [
    "sns.scatterplot(x=lda_red[:,0], y=lda_red[:,1], hue=df['genre'])"
   ]
  },
  {
   "cell_type": "markdown",
   "metadata": {},
   "source": [
    "## LDA prediction"
   ]
  },
  {
   "cell_type": "code",
   "execution_count": 29,
   "metadata": {
    "collapsed": false,
    "jupyter": {
     "outputs_hidden": false
    },
    "pycharm": {
     "name": "#%%\n"
    }
   },
   "outputs": [],
   "source": [
    "X_train, X_test, y_train, y_test = train_test_split(X,df['genre'])"
   ]
  },
  {
   "cell_type": "code",
   "execution_count": 30,
   "metadata": {
    "collapsed": false,
    "jupyter": {
     "outputs_hidden": false
    },
    "pycharm": {
     "name": "#%%\n"
    }
   },
   "outputs": [
    {
     "data": {
      "text/plain": [
       "LinearDiscriminantAnalysis(n_components=2)"
      ]
     },
     "execution_count": 30,
     "metadata": {},
     "output_type": "execute_result"
    }
   ],
   "source": [
    "lda_predictions=LinearDiscriminantAnalysis(n_components=2)\n",
    "lda_predictions.fit(X_train,y_train)"
   ]
  },
  {
   "cell_type": "code",
   "execution_count": 31,
   "metadata": {
    "collapsed": false,
    "jupyter": {
     "outputs_hidden": false
    },
    "pycharm": {
     "name": "#%%\n"
    }
   },
   "outputs": [],
   "source": [
    "y_pred = lda_predictions.predict(X_test)"
   ]
  },
  {
   "cell_type": "code",
   "execution_count": 32,
   "metadata": {
    "collapsed": false,
    "jupyter": {
     "outputs_hidden": false
    },
    "pycharm": {
     "name": "#%%\n"
    }
   },
   "outputs": [
    {
     "name": "stdout",
     "output_type": "stream",
     "text": [
      "0.4794169785306283\n",
      "              precision    recall  f1-score   support\n",
      "\n",
      "       blues       0.14      0.06      0.08       147\n",
      "     country       0.19      0.02      0.03       521\n",
      "        funk       0.41      0.09      0.14       256\n",
      "     hip-hop       0.64      0.59      0.61       393\n",
      "        jazz       0.50      0.40      0.44       341\n",
      "       metal       0.63      0.61      0.62       226\n",
      "         pop       0.45      0.70      0.55      1802\n",
      "        rock       0.52      0.45      0.48      1354\n",
      "      techno       0.16      0.38      0.22        37\n",
      "\n",
      "    accuracy                           0.48      5077\n",
      "   macro avg       0.40      0.37      0.35      5077\n",
      "weighted avg       0.46      0.48      0.44      5077\n",
      "\n"
     ]
    },
    {
     "data": {
      "image/png": "[encoded data removed]",
      "text/plain": [
       "<Figure size 432x288 with 2 Axes>"
      ]
     },
     "metadata": {
      "needs_background": "light"
     },
     "output_type": "display_data"
    }
   ],
   "source": [
    "print(accuracy_score(y_test, y_pred))\n",
    "print(classification_report(y_test, y_pred))\n",
    "plot_heatmap(y_test, y_pred)"
   ]
  },
  {
   "cell_type": "markdown",
   "metadata": {},
   "source": [
    "## QDA prediction"
   ]
  },
  {
   "cell_type": "code",
   "execution_count": 33,
   "metadata": {
    "collapsed": false,
    "jupyter": {
     "outputs_hidden": false
    },
    "pycharm": {
     "name": "#%%\n"
    }
   },
   "outputs": [
    {
     "data": {
      "text/plain": [
       "QuadraticDiscriminantAnalysis()"
      ]
     },
     "execution_count": 33,
     "metadata": {},
     "output_type": "execute_result"
    }
   ],
   "source": [
    "qda_predictions = QuadraticDiscriminantAnalysis()\n",
    "qda_predictions.fit(X_train,y_train)"
   ]
  },
  {
   "cell_type": "code",
   "execution_count": 34,
   "metadata": {
    "collapsed": false,
    "jupyter": {
     "outputs_hidden": false
    },
    "pycharm": {
     "name": "#%%\n"
    }
   },
   "outputs": [],
   "source": [
    "y_pred = qda_predictions.predict(X_test)"
   ]
  },
  {
   "cell_type": "code",
   "execution_count": 35,
   "metadata": {
    "collapsed": false,
    "jupyter": {
     "outputs_hidden": false
    },
    "pycharm": {
     "name": "#%%\n"
    }
   },
   "outputs": [
    {
     "name": "stdout",
     "output_type": "stream",
     "text": [
      "0.4193421311798306\n",
      "              precision    recall  f1-score   support\n",
      "\n",
      "       blues       0.13      0.10      0.12       147\n",
      "     country       0.25      0.72      0.37       521\n",
      "        funk       0.31      0.21      0.25       256\n",
      "     hip-hop       0.62      0.68      0.65       393\n",
      "        jazz       0.44      0.43      0.44       341\n",
      "       metal       0.55      0.64      0.59       226\n",
      "         pop       0.47      0.37      0.41      1802\n",
      "        rock       0.57      0.33      0.41      1354\n",
      "      techno       0.24      0.30      0.27        37\n",
      "\n",
      "    accuracy                           0.42      5077\n",
      "   macro avg       0.40      0.42      0.39      5077\n",
      "weighted avg       0.47      0.42      0.42      5077\n",
      "\n"
     ]
    },
    {
     "data": {
      "image/png": "[encoded data removed]",
      "text/plain": [
       "<Figure size 432x288 with 2 Axes>"
      ]
     },
     "metadata": {
      "needs_background": "light"
     },
     "output_type": "display_data"
    }
   ],
   "source": [
    "print(accuracy_score(y_test, y_pred))\n",
    "print(classification_report(y_test, y_pred))\n",
    "plot_heatmap(y_test, y_pred)"
   ]
  },
  {
   "cell_type": "markdown",
   "metadata": {
    "jupyter": {
     "outputs_hidden": false
    },
    "pycharm": {
     "name": "#%%\n"
    }
   },
   "source": [
    "## Ensemble methods"
   ]
  },
  {
   "cell_type": "markdown",
   "metadata": {},
   "source": [
    "### Preprocessing"
   ]
  },
  {
   "cell_type": "code",
   "execution_count": 36,
   "metadata": {},
   "outputs": [],
   "source": [
    "X = df.drop(['decade', 'genre', 'target'],axis=1)\n",
    "le = LabelEncoder()\n",
    "y = le.fit_transform(df['genre'])\n",
    "X_train, X_test, y_train, y_test = train_test_split(X, y)"
   ]
  },
  {
   "cell_type": "markdown",
   "metadata": {},
   "source": [
    "### Separate performance"
   ]
  },
  {
   "cell_type": "code",
   "execution_count": 37,
   "metadata": {},
   "outputs": [],
   "source": [
    "model_lr = LogisticRegression(multi_class='multinomial', solver='lbfgs')\n",
    "model_dt = DecisionTreeClassifier()\n",
    "model_knn = KNeighborsClassifier()\n",
    "\n",
    "model_lr.fit(X_train, y_train)\n",
    "model_dt.fit(X_train, y_train)\n",
    "model_knn.fit(X_train, y_train)\n",
    "\n",
    "y_pred_lr = model_lr.predict(X_test)\n",
    "y_pred_dt = model_dt.predict(X_test)\n",
    "y_pred_knn = model_knn.predict(X_test)"
   ]
  },
  {
   "cell_type": "code",
   "execution_count": 38,
   "metadata": {},
   "outputs": [
    {
     "name": "stdout",
     "output_type": "stream",
     "text": [
      "LogisticRegression accuracy 0.4896592475871578\n",
      "DecisionTree accuracy 0.41796336419145164\n",
      "KNeighborsClassifier accuracy 0.4400236360055151\n"
     ]
    }
   ],
   "source": [
    "print(f'LogisticRegression accuracy {accuracy_score(y_test, y_pred_lr)}')\n",
    "print(f'DecisionTree accuracy {accuracy_score(y_test, y_pred_dt)}')\n",
    "print(f'KNeighborsClassifier accuracy {accuracy_score(y_test, y_pred_knn)}')"
   ]
  },
  {
   "cell_type": "markdown",
   "metadata": {},
   "source": [
    "### Voting classifier"
   ]
  },
  {
   "cell_type": "code",
   "execution_count": 39,
   "metadata": {},
   "outputs": [
    {
     "name": "stdout",
     "output_type": "stream",
     "text": [
      "Accuracy score: 0.4794169785306283\n",
      "F1 score: 0.3926461374371441\n"
     ]
    }
   ],
   "source": [
    "voting_clf = VotingClassifier(estimators=[('KNN', model_knn),('DTree', model_dt),('LogReg', model_lr)], voting='hard')\n",
    "voting_clf.fit(X_train, y_train)\n",
    "predic=voting_clf.predict(X_test)\n",
    "acc=accuracy_score(y_test, predic)\n",
    "f1=f1_score(y_test, predic, average='macro')\n",
    "print(f'Accuracy score: {acc}')\n",
    "print(f'F1 score: {f1}')"
   ]
  },
  {
   "cell_type": "markdown",
   "metadata": {},
   "source": [
    "### Bagging classifier"
   ]
  },
  {
   "cell_type": "code",
   "execution_count": 40,
   "metadata": {},
   "outputs": [],
   "source": [
    "model_lr = LogisticRegression(multi_class='multinomial', solver='lbfgs')\n",
    "model_dt = DecisionTreeClassifier()\n",
    "model_knn = KNeighborsClassifier()\n",
    "\n",
    "model_bagging_lr = BaggingClassifier(base_estimator=model_lr, n_estimators=5)\n",
    "model_bagging_dt = BaggingClassifier(base_estimator=model_dt, n_estimators=5)\n",
    "model_bagging_knn = BaggingClassifier(base_estimator=model_knn, n_estimators=5)"
   ]
  },
  {
   "cell_type": "code",
   "execution_count": 41,
   "metadata": {},
   "outputs": [],
   "source": [
    "def ensemble_cross_val(model, n_splits):\n",
    "    k_folds = KFold(n_splits=n_splits)\n",
    "    results = cross_val_score(model, X_train, y_train, cv=k_folds)\n",
    "    print(results.mean())"
   ]
  },
  {
   "cell_type": "code",
   "execution_count": 42,
   "metadata": {},
   "outputs": [],
   "source": [
    "import warnings\n",
    "warnings.filterwarnings('ignore')"
   ]
  },
  {
   "cell_type": "code",
   "execution_count": 43,
   "metadata": {},
   "outputs": [
    {
     "name": "stdout",
     "output_type": "stream",
     "text": [
      "Logistic regression cross val score: \n",
      "0.4985584136082858\n",
      "Decision tree cross val score: \n",
      "0.46789458889912083\n",
      "KNN cross val score: \n",
      "0.4479358731604016\n"
     ]
    }
   ],
   "source": [
    "print('Logistic regression cross val score: ')\n",
    "ensemble_cross_val(model_bagging_lr, 20)\n",
    "print(f'Decision tree cross val score: ')\n",
    "ensemble_cross_val(model_bagging_dt, 20)\n",
    "print(f'KNN cross val score: ')\n",
    "ensemble_cross_val(model_bagging_knn, 20)"
   ]
  },
  {
   "cell_type": "markdown",
   "metadata": {},
   "source": [
    "### AdaBoost classifier"
   ]
  },
  {
   "cell_type": "code",
   "execution_count": 44,
   "metadata": {},
   "outputs": [
    {
     "name": "stdout",
     "output_type": "stream",
     "text": [
      "0.45351280367695335\n"
     ]
    }
   ],
   "source": [
    "model = AdaBoostClassifier(n_estimators=10)\n",
    "ensemble_cross_val(model, 10)"
   ]
  }
 ],
 "metadata": {
  "kernelspec": {
   "display_name": "Python 3",
   "language": "python",
   "name": "python3"
  },
  "language_info": {
   "codemirror_mode": {
    "name": "ipython",
    "version": 3
   },
   "file_extension": ".py",
   "mimetype": "text/x-python",
   "name": "python",
   "nbconvert_exporter": "python",
   "pygments_lexer": "ipython3",
   "version": "3.8.8"
  }
 },
 "nbformat": 4,
 "nbformat_minor": 4
}
