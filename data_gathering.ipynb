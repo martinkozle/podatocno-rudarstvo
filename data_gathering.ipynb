{
 "cells": [
  {
   "cell_type": "code",
   "execution_count": 3,
   "metadata": {
    "collapsed": true
   },
   "outputs": [],
   "source": [
    "import pandas as pd"
   ]
  },
  {
   "cell_type": "code",
   "execution_count": 7,
   "outputs": [],
   "source": [
    "df_list = []\n",
    "for decade in ('60', '70', '80', '90', '00', '10'):\n",
    "    df_tmp = pd.read_csv(f'data/dataset-of-{decade}s.csv')\n",
    "    df_tmp['decade'] = decade\n",
    "    df_list.append(df_tmp)\n",
    "df = pd.concat(df_list, ignore_index=True)"
   ],
   "metadata": {
    "collapsed": false,
    "pycharm": {
     "name": "#%%\n"
    }
   }
  },
  {
   "cell_type": "code",
   "execution_count": 8,
   "outputs": [
    {
     "data": {
      "text/plain": "                       track            artist  \\\n0      Jealous Kind Of Fella     Garland Green   \n1              Initials B.B.  Serge Gainsbourg   \n2               Melody Twist       Lord Melody   \n3              Mi Bomba Sonó        Celia Cruz   \n4                Uravu Solla       P. Susheela   \n...                      ...               ...   \n41101          Lotus Flowers             Yolta   \n41102      Calling My Spirit       Kodak Black   \n41103          Teenage Dream        Katy Perry   \n41104         Stormy Weather    Oscar Peterson   \n41105                   Dust       Hans Zimmer   \n\n                                        uri  danceability  energy  key  \\\n0      spotify:track:1dtKN6wwlolkM8XZy2y9C1         0.417   0.620    3   \n1      spotify:track:5hjsmSnUefdUqzsDogisiX         0.498   0.505    3   \n2      spotify:track:6uk8tI6pwxxdVTNlNOJeJh         0.657   0.649    5   \n3      spotify:track:7aNjMJ05FvUXACPWZ7yJmv         0.590   0.545    7   \n4      spotify:track:1rQ0clvgkzWr001POOPJWx         0.515   0.765   11   \n...                                     ...           ...     ...  ...   \n41101  spotify:track:4t1TljQWJ6ZuoSY67zVvBI         0.172   0.358    9   \n41102  spotify:track:2MShy1GSSgbmGUxADNIao5         0.910   0.366    1   \n41103  spotify:track:55qBw1900pZKfXJ6Q9A2Lc         0.719   0.804   10   \n41104  spotify:track:4o9npmYHrOF1rUxxTVH8h4         0.600   0.177    7   \n41105  spotify:track:2khIaVUkbMmDHB596lyMG3         0.121   0.123    4   \n\n       loudness  mode  speechiness  acousticness  instrumentalness  liveness  \\\n0        -7.727     1       0.0403        0.4900          0.000000    0.0779   \n1       -12.475     1       0.0337        0.0180          0.107000    0.1760   \n2       -13.392     1       0.0380        0.8460          0.000004    0.1190   \n3       -12.058     0       0.1040        0.7060          0.024600    0.0610   \n4        -3.515     0       0.1240        0.8570          0.000872    0.2130   \n...         ...   ...          ...           ...               ...       ...   \n41101   -14.430     1       0.0342        0.8860          0.966000    0.3140   \n41102    -9.954     1       0.0941        0.0996          0.000000    0.2610   \n41103    -4.581     1       0.0355        0.0132          0.000003    0.1390   \n41104   -16.070     1       0.0561        0.9890          0.868000    0.1490   \n41105   -23.025     0       0.0443        0.9640          0.696000    0.1030   \n\n       valence    tempo  duration_ms  time_signature  chorus_hit  sections  \\\n0       0.8450  185.655       173533               3    32.94975         9   \n1       0.7970  101.801       213613               4    48.82510        10   \n2       0.9080  115.940       223960               4    37.22663        12   \n3       0.9670  105.592       157907               4    24.75484         8   \n4       0.9060  114.617       245600               4    21.79874        14   \n...        ...      ...          ...             ...         ...       ...   \n41101   0.0361   72.272       150857               4    24.30824         7   \n41102   0.7400  119.985       152000               4    32.53856         8   \n41103   0.6050  119.999       227760               4    20.73371         7   \n41104   0.5600  120.030       213387               4    21.65301        14   \n41105   0.0297   95.182       341396               4    71.05343        15   \n\n       target decade  \n0           1     60  \n1           0     60  \n2           0     60  \n3           0     60  \n4           0     60  \n...       ...    ...  \n41101       0     10  \n41102       1     10  \n41103       1     10  \n41104       0     10  \n41105       0     10  \n\n[41106 rows x 20 columns]",
      "text/html": "<div>\n<style scoped>\n    .dataframe tbody tr th:only-of-type {\n        vertical-align: middle;\n    }\n\n    .dataframe tbody tr th {\n        vertical-align: top;\n    }\n\n    .dataframe thead th {\n        text-align: right;\n    }\n</style>\n<table border=\"1\" class=\"dataframe\">\n  <thead>\n    <tr style=\"text-align: right;\">\n      <th></th>\n      <th>track</th>\n      <th>artist</th>\n      <th>uri</th>\n      <th>danceability</th>\n      <th>energy</th>\n      <th>key</th>\n      <th>loudness</th>\n      <th>mode</th>\n      <th>speechiness</th>\n      <th>acousticness</th>\n      <th>instrumentalness</th>\n      <th>liveness</th>\n      <th>valence</th>\n      <th>tempo</th>\n      <th>duration_ms</th>\n      <th>time_signature</th>\n      <th>chorus_hit</th>\n      <th>sections</th>\n      <th>target</th>\n      <th>decade</th>\n    </tr>\n  </thead>\n  <tbody>\n    <tr>\n      <th>0</th>\n      <td>Jealous Kind Of Fella</td>\n      <td>Garland Green</td>\n      <td>spotify:track:1dtKN6wwlolkM8XZy2y9C1</td>\n      <td>0.417</td>\n      <td>0.620</td>\n      <td>3</td>\n      <td>-7.727</td>\n      <td>1</td>\n      <td>0.0403</td>\n      <td>0.4900</td>\n      <td>0.000000</td>\n      <td>0.0779</td>\n      <td>0.8450</td>\n      <td>185.655</td>\n      <td>173533</td>\n      <td>3</td>\n      <td>32.94975</td>\n      <td>9</td>\n      <td>1</td>\n      <td>60</td>\n    </tr>\n    <tr>\n      <th>1</th>\n      <td>Initials B.B.</td>\n      <td>Serge Gainsbourg</td>\n      <td>spotify:track:5hjsmSnUefdUqzsDogisiX</td>\n      <td>0.498</td>\n      <td>0.505</td>\n      <td>3</td>\n      <td>-12.475</td>\n      <td>1</td>\n      <td>0.0337</td>\n      <td>0.0180</td>\n      <td>0.107000</td>\n      <td>0.1760</td>\n      <td>0.7970</td>\n      <td>101.801</td>\n      <td>213613</td>\n      <td>4</td>\n      <td>48.82510</td>\n      <td>10</td>\n      <td>0</td>\n      <td>60</td>\n    </tr>\n    <tr>\n      <th>2</th>\n      <td>Melody Twist</td>\n      <td>Lord Melody</td>\n      <td>spotify:track:6uk8tI6pwxxdVTNlNOJeJh</td>\n      <td>0.657</td>\n      <td>0.649</td>\n      <td>5</td>\n      <td>-13.392</td>\n      <td>1</td>\n      <td>0.0380</td>\n      <td>0.8460</td>\n      <td>0.000004</td>\n      <td>0.1190</td>\n      <td>0.9080</td>\n      <td>115.940</td>\n      <td>223960</td>\n      <td>4</td>\n      <td>37.22663</td>\n      <td>12</td>\n      <td>0</td>\n      <td>60</td>\n    </tr>\n    <tr>\n      <th>3</th>\n      <td>Mi Bomba Sonó</td>\n      <td>Celia Cruz</td>\n      <td>spotify:track:7aNjMJ05FvUXACPWZ7yJmv</td>\n      <td>0.590</td>\n      <td>0.545</td>\n      <td>7</td>\n      <td>-12.058</td>\n      <td>0</td>\n      <td>0.1040</td>\n      <td>0.7060</td>\n      <td>0.024600</td>\n      <td>0.0610</td>\n      <td>0.9670</td>\n      <td>105.592</td>\n      <td>157907</td>\n      <td>4</td>\n      <td>24.75484</td>\n      <td>8</td>\n      <td>0</td>\n      <td>60</td>\n    </tr>\n    <tr>\n      <th>4</th>\n      <td>Uravu Solla</td>\n      <td>P. Susheela</td>\n      <td>spotify:track:1rQ0clvgkzWr001POOPJWx</td>\n      <td>0.515</td>\n      <td>0.765</td>\n      <td>11</td>\n      <td>-3.515</td>\n      <td>0</td>\n      <td>0.1240</td>\n      <td>0.8570</td>\n      <td>0.000872</td>\n      <td>0.2130</td>\n      <td>0.9060</td>\n      <td>114.617</td>\n      <td>245600</td>\n      <td>4</td>\n      <td>21.79874</td>\n      <td>14</td>\n      <td>0</td>\n      <td>60</td>\n    </tr>\n    <tr>\n      <th>...</th>\n      <td>...</td>\n      <td>...</td>\n      <td>...</td>\n      <td>...</td>\n      <td>...</td>\n      <td>...</td>\n      <td>...</td>\n      <td>...</td>\n      <td>...</td>\n      <td>...</td>\n      <td>...</td>\n      <td>...</td>\n      <td>...</td>\n      <td>...</td>\n      <td>...</td>\n      <td>...</td>\n      <td>...</td>\n      <td>...</td>\n      <td>...</td>\n      <td>...</td>\n    </tr>\n    <tr>\n      <th>41101</th>\n      <td>Lotus Flowers</td>\n      <td>Yolta</td>\n      <td>spotify:track:4t1TljQWJ6ZuoSY67zVvBI</td>\n      <td>0.172</td>\n      <td>0.358</td>\n      <td>9</td>\n      <td>-14.430</td>\n      <td>1</td>\n      <td>0.0342</td>\n      <td>0.8860</td>\n      <td>0.966000</td>\n      <td>0.3140</td>\n      <td>0.0361</td>\n      <td>72.272</td>\n      <td>150857</td>\n      <td>4</td>\n      <td>24.30824</td>\n      <td>7</td>\n      <td>0</td>\n      <td>10</td>\n    </tr>\n    <tr>\n      <th>41102</th>\n      <td>Calling My Spirit</td>\n      <td>Kodak Black</td>\n      <td>spotify:track:2MShy1GSSgbmGUxADNIao5</td>\n      <td>0.910</td>\n      <td>0.366</td>\n      <td>1</td>\n      <td>-9.954</td>\n      <td>1</td>\n      <td>0.0941</td>\n      <td>0.0996</td>\n      <td>0.000000</td>\n      <td>0.2610</td>\n      <td>0.7400</td>\n      <td>119.985</td>\n      <td>152000</td>\n      <td>4</td>\n      <td>32.53856</td>\n      <td>8</td>\n      <td>1</td>\n      <td>10</td>\n    </tr>\n    <tr>\n      <th>41103</th>\n      <td>Teenage Dream</td>\n      <td>Katy Perry</td>\n      <td>spotify:track:55qBw1900pZKfXJ6Q9A2Lc</td>\n      <td>0.719</td>\n      <td>0.804</td>\n      <td>10</td>\n      <td>-4.581</td>\n      <td>1</td>\n      <td>0.0355</td>\n      <td>0.0132</td>\n      <td>0.000003</td>\n      <td>0.1390</td>\n      <td>0.6050</td>\n      <td>119.999</td>\n      <td>227760</td>\n      <td>4</td>\n      <td>20.73371</td>\n      <td>7</td>\n      <td>1</td>\n      <td>10</td>\n    </tr>\n    <tr>\n      <th>41104</th>\n      <td>Stormy Weather</td>\n      <td>Oscar Peterson</td>\n      <td>spotify:track:4o9npmYHrOF1rUxxTVH8h4</td>\n      <td>0.600</td>\n      <td>0.177</td>\n      <td>7</td>\n      <td>-16.070</td>\n      <td>1</td>\n      <td>0.0561</td>\n      <td>0.9890</td>\n      <td>0.868000</td>\n      <td>0.1490</td>\n      <td>0.5600</td>\n      <td>120.030</td>\n      <td>213387</td>\n      <td>4</td>\n      <td>21.65301</td>\n      <td>14</td>\n      <td>0</td>\n      <td>10</td>\n    </tr>\n    <tr>\n      <th>41105</th>\n      <td>Dust</td>\n      <td>Hans Zimmer</td>\n      <td>spotify:track:2khIaVUkbMmDHB596lyMG3</td>\n      <td>0.121</td>\n      <td>0.123</td>\n      <td>4</td>\n      <td>-23.025</td>\n      <td>0</td>\n      <td>0.0443</td>\n      <td>0.9640</td>\n      <td>0.696000</td>\n      <td>0.1030</td>\n      <td>0.0297</td>\n      <td>95.182</td>\n      <td>341396</td>\n      <td>4</td>\n      <td>71.05343</td>\n      <td>15</td>\n      <td>0</td>\n      <td>10</td>\n    </tr>\n  </tbody>\n</table>\n<p>41106 rows × 20 columns</p>\n</div>"
     },
     "execution_count": 8,
     "metadata": {},
     "output_type": "execute_result"
    }
   ],
   "source": [
    "df"
   ],
   "metadata": {
    "collapsed": false,
    "pycharm": {
     "name": "#%%\n"
    }
   }
  },
  {
   "cell_type": "code",
   "execution_count": 9,
   "outputs": [],
   "source": [
    "df.to_csv('data/dataset.csv')"
   ],
   "metadata": {
    "collapsed": false,
    "pycharm": {
     "name": "#%%\n"
    }
   }
  }
 ],
 "metadata": {
  "kernelspec": {
   "name": "py38_ml",
   "language": "python",
   "display_name": "Python (py38_ml)"
  },
  "language_info": {
   "codemirror_mode": {
    "name": "ipython",
    "version": 2
   },
   "file_extension": ".py",
   "mimetype": "text/x-python",
   "name": "python",
   "nbconvert_exporter": "python",
   "pygments_lexer": "ipython2",
   "version": "2.7.6"
  }
 },
 "nbformat": 4,
 "nbformat_minor": 0
}