{
 "cells": [
  {
   "cell_type": "code",
   "execution_count": 21,
   "metadata": {
    "collapsed": true
   },
   "outputs": [],
   "source": [
    "import pandas as pd\n",
    "from tqdm import tqdm"
   ]
  },
  {
   "cell_type": "code",
   "execution_count": 22,
   "outputs": [],
   "source": [
    "df = pd.read_csv('data/Hot Stuff.csv')"
   ],
   "metadata": {
    "collapsed": false,
    "pycharm": {
     "name": "#%%\n"
    }
   }
  },
  {
   "cell_type": "code",
   "execution_count": 23,
   "outputs": [
    {
     "data": {
      "text/plain": "                                                      url      WeekID  \\\n0       http://www.billboard.com/charts/hot-100/1963-0...    6/1/1963   \n1       http://www.billboard.com/charts/hot-100/1967-0...    1/7/1967   \n2       http://www.billboard.com/charts/hot-100/1971-0...    7/3/1971   \n3       http://www.billboard.com/charts/hot-100/1975-1...  11/29/1975   \n4       http://www.billboard.com/charts/hot-100/1979-0...   9/29/1979   \n...                                                   ...         ...   \n325690  https://www.billboard.com/charts/hot-100/2018-...   3/17/2018   \n325691  https://www.billboard.com/charts/hot-100/2018-...   3/24/2018   \n325692  https://www.billboard.com/charts/hot-100/2018-...   3/31/2018   \n325693  https://www.billboard.com/charts/hot-100/2018-...    4/7/2018   \n325694  https://www.billboard.com/charts/hot-100/2018-...   4/14/2018   \n\n        Week Position                          Song         Performer  \\\n0                  11                         Still     Bill Anderson   \n1                  11           Coming Home Soldier      Bobby Vinton   \n2                  11  She's Not Just Another Woman       The 8th Day   \n3                  11                Saturday Night  Bay City Rollers   \n4                  11                     Pop Muzik                 M   \n...               ...                           ...               ...   \n325690             38              You Make It Easy      Jason Aldean   \n325691             34              You Make It Easy      Jason Aldean   \n325692             36              You Make It Easy      Jason Aldean   \n325693             34              You Make It Easy      Jason Aldean   \n325694             36              You Make It Easy      Jason Aldean   \n\n                                         SongID  Instance  \\\n0                            StillBill Anderson       1.0   \n1               Coming Home SoldierBobby Vinton       1.0   \n2       She's Not Just Another WomanThe 8th Day       1.0   \n3                Saturday NightBay City Rollers       1.0   \n4                                    Pop MuzikM       1.0   \n...                                         ...       ...   \n325690             You Make It EasyJason Aldean       1.0   \n325691             You Make It EasyJason Aldean       1.0   \n325692             You Make It EasyJason Aldean       1.0   \n325693             You Make It EasyJason Aldean       1.0   \n325694             You Make It EasyJason Aldean       1.0   \n\n        Previous Week Position  Peak Position  Weeks on Chart  \n0                         17.0           11.0             8.0  \n1                         17.0           11.0             8.0  \n2                         17.0           11.0             8.0  \n3                         17.0           11.0             8.0  \n4                         17.0           11.0             8.0  \n...                        ...            ...             ...  \n325690                    38.0           28.0             6.0  \n325691                    38.0           28.0             7.0  \n325692                    34.0           28.0             8.0  \n325693                    36.0           28.0             9.0  \n325694                    34.0           28.0            10.0  \n\n[325695 rows x 10 columns]",
      "text/html": "<div>\n<style scoped>\n    .dataframe tbody tr th:only-of-type {\n        vertical-align: middle;\n    }\n\n    .dataframe tbody tr th {\n        vertical-align: top;\n    }\n\n    .dataframe thead th {\n        text-align: right;\n    }\n</style>\n<table border=\"1\" class=\"dataframe\">\n  <thead>\n    <tr style=\"text-align: right;\">\n      <th></th>\n      <th>url</th>\n      <th>WeekID</th>\n      <th>Week Position</th>\n      <th>Song</th>\n      <th>Performer</th>\n      <th>SongID</th>\n      <th>Instance</th>\n      <th>Previous Week Position</th>\n      <th>Peak Position</th>\n      <th>Weeks on Chart</th>\n    </tr>\n  </thead>\n  <tbody>\n    <tr>\n      <th>0</th>\n      <td>http://www.billboard.com/charts/hot-100/1963-0...</td>\n      <td>6/1/1963</td>\n      <td>11</td>\n      <td>Still</td>\n      <td>Bill Anderson</td>\n      <td>StillBill Anderson</td>\n      <td>1.0</td>\n      <td>17.0</td>\n      <td>11.0</td>\n      <td>8.0</td>\n    </tr>\n    <tr>\n      <th>1</th>\n      <td>http://www.billboard.com/charts/hot-100/1967-0...</td>\n      <td>1/7/1967</td>\n      <td>11</td>\n      <td>Coming Home Soldier</td>\n      <td>Bobby Vinton</td>\n      <td>Coming Home SoldierBobby Vinton</td>\n      <td>1.0</td>\n      <td>17.0</td>\n      <td>11.0</td>\n      <td>8.0</td>\n    </tr>\n    <tr>\n      <th>2</th>\n      <td>http://www.billboard.com/charts/hot-100/1971-0...</td>\n      <td>7/3/1971</td>\n      <td>11</td>\n      <td>She's Not Just Another Woman</td>\n      <td>The 8th Day</td>\n      <td>She's Not Just Another WomanThe 8th Day</td>\n      <td>1.0</td>\n      <td>17.0</td>\n      <td>11.0</td>\n      <td>8.0</td>\n    </tr>\n    <tr>\n      <th>3</th>\n      <td>http://www.billboard.com/charts/hot-100/1975-1...</td>\n      <td>11/29/1975</td>\n      <td>11</td>\n      <td>Saturday Night</td>\n      <td>Bay City Rollers</td>\n      <td>Saturday NightBay City Rollers</td>\n      <td>1.0</td>\n      <td>17.0</td>\n      <td>11.0</td>\n      <td>8.0</td>\n    </tr>\n    <tr>\n      <th>4</th>\n      <td>http://www.billboard.com/charts/hot-100/1979-0...</td>\n      <td>9/29/1979</td>\n      <td>11</td>\n      <td>Pop Muzik</td>\n      <td>M</td>\n      <td>Pop MuzikM</td>\n      <td>1.0</td>\n      <td>17.0</td>\n      <td>11.0</td>\n      <td>8.0</td>\n    </tr>\n    <tr>\n      <th>...</th>\n      <td>...</td>\n      <td>...</td>\n      <td>...</td>\n      <td>...</td>\n      <td>...</td>\n      <td>...</td>\n      <td>...</td>\n      <td>...</td>\n      <td>...</td>\n      <td>...</td>\n    </tr>\n    <tr>\n      <th>325690</th>\n      <td>https://www.billboard.com/charts/hot-100/2018-...</td>\n      <td>3/17/2018</td>\n      <td>38</td>\n      <td>You Make It Easy</td>\n      <td>Jason Aldean</td>\n      <td>You Make It EasyJason Aldean</td>\n      <td>1.0</td>\n      <td>38.0</td>\n      <td>28.0</td>\n      <td>6.0</td>\n    </tr>\n    <tr>\n      <th>325691</th>\n      <td>https://www.billboard.com/charts/hot-100/2018-...</td>\n      <td>3/24/2018</td>\n      <td>34</td>\n      <td>You Make It Easy</td>\n      <td>Jason Aldean</td>\n      <td>You Make It EasyJason Aldean</td>\n      <td>1.0</td>\n      <td>38.0</td>\n      <td>28.0</td>\n      <td>7.0</td>\n    </tr>\n    <tr>\n      <th>325692</th>\n      <td>https://www.billboard.com/charts/hot-100/2018-...</td>\n      <td>3/31/2018</td>\n      <td>36</td>\n      <td>You Make It Easy</td>\n      <td>Jason Aldean</td>\n      <td>You Make It EasyJason Aldean</td>\n      <td>1.0</td>\n      <td>34.0</td>\n      <td>28.0</td>\n      <td>8.0</td>\n    </tr>\n    <tr>\n      <th>325693</th>\n      <td>https://www.billboard.com/charts/hot-100/2018-...</td>\n      <td>4/7/2018</td>\n      <td>34</td>\n      <td>You Make It Easy</td>\n      <td>Jason Aldean</td>\n      <td>You Make It EasyJason Aldean</td>\n      <td>1.0</td>\n      <td>36.0</td>\n      <td>28.0</td>\n      <td>9.0</td>\n    </tr>\n    <tr>\n      <th>325694</th>\n      <td>https://www.billboard.com/charts/hot-100/2018-...</td>\n      <td>4/14/2018</td>\n      <td>36</td>\n      <td>You Make It Easy</td>\n      <td>Jason Aldean</td>\n      <td>You Make It EasyJason Aldean</td>\n      <td>1.0</td>\n      <td>34.0</td>\n      <td>28.0</td>\n      <td>10.0</td>\n    </tr>\n  </tbody>\n</table>\n<p>325695 rows × 10 columns</p>\n</div>"
     },
     "execution_count": 23,
     "metadata": {},
     "output_type": "execute_result"
    }
   ],
   "source": [
    "df"
   ],
   "metadata": {
    "collapsed": false,
    "pycharm": {
     "name": "#%%\n"
    }
   }
  },
  {
   "cell_type": "code",
   "execution_count": 24,
   "outputs": [
    {
     "data": {
      "text/plain": "array([('Still', 'Bill Anderson'),\n       ('Coming Home Soldier', 'Bobby Vinton'),\n       (\"She's Not Just Another Woman\", 'The 8th Day'), ...,\n       ('You Made A Believer (Out Of Me)', 'Ruby Andrews'),\n       ('You Made Me Believe In Magic', 'Bay City Rollers'),\n       ('You Made Me Love You', 'Nat King Cole')], dtype=object)"
     },
     "execution_count": 24,
     "metadata": {},
     "output_type": "execute_result"
    }
   ],
   "source": [
    "unique_songs = pd.unique(list(zip(df['Song'], df['Performer'])))\n",
    "unique_songs"
   ],
   "metadata": {
    "collapsed": false,
    "pycharm": {
     "name": "#%%\n"
    }
   }
  },
  {
   "cell_type": "code",
   "execution_count": 25,
   "outputs": [],
   "source": [
    "main_df = pd.read_csv('data/dataset.csv')"
   ],
   "metadata": {
    "collapsed": false,
    "pycharm": {
     "name": "#%%\n"
    }
   }
  },
  {
   "cell_type": "code",
   "execution_count": 26,
   "outputs": [
    {
     "name": "stderr",
     "output_type": "stream",
     "text": [
      "  0%|          | 0/29154 [00:00<?, ?it/s]<ipython-input-26-8b4dc5fb2840>:3: UserWarning: Boolean Series key will be reindexed to match DataFrame index.\n",
      "  df[df.Song == song][df.Performer == performer]['Peak Position'].min()\n",
      "<ipython-input-26-8b4dc5fb2840>:5: UserWarning: Boolean Series key will be reindexed to match DataFrame index.\n",
      "  main_df[main_df.track == song][main_df.artist == performer]['peak_pos'] = (\n",
      "100%|██████████| 29154/29154 [16:48<00:00, 28.91it/s]\n"
     ]
    }
   ],
   "source": [
    "for song, performer in tqdm(unique_songs):\n",
    "    peak_pos = (\n",
    "        df[df.Song == song][df.Performer == performer]['Peak Position'].min()\n",
    "    )\n",
    "    main_df[main_df.track == song][main_df.artist == performer]['peak_pos'] = (\n",
    "        peak_pos\n",
    "    )"
   ],
   "metadata": {
    "collapsed": false,
    "pycharm": {
     "name": "#%%\n"
    }
   }
  },
  {
   "cell_type": "code",
   "execution_count": 27,
   "outputs": [
    {
     "data": {
      "text/plain": "       Unnamed: 0                  track            artist  \\\n0               0  Jealous Kind Of Fella     Garland Green   \n1               1          Initials B.B.  Serge Gainsbourg   \n2               2           Melody Twist       Lord Melody   \n3               3          Mi Bomba Sonó        Celia Cruz   \n4               4            Uravu Solla       P. Susheela   \n...           ...                    ...               ...   \n41101       41101          Lotus Flowers             Yolta   \n41102       41102      Calling My Spirit       Kodak Black   \n41103       41103          Teenage Dream        Katy Perry   \n41104       41104         Stormy Weather    Oscar Peterson   \n41105       41105                   Dust       Hans Zimmer   \n\n                                        uri  danceability  energy  key  \\\n0      spotify:track:1dtKN6wwlolkM8XZy2y9C1         0.417   0.620    3   \n1      spotify:track:5hjsmSnUefdUqzsDogisiX         0.498   0.505    3   \n2      spotify:track:6uk8tI6pwxxdVTNlNOJeJh         0.657   0.649    5   \n3      spotify:track:7aNjMJ05FvUXACPWZ7yJmv         0.590   0.545    7   \n4      spotify:track:1rQ0clvgkzWr001POOPJWx         0.515   0.765   11   \n...                                     ...           ...     ...  ...   \n41101  spotify:track:4t1TljQWJ6ZuoSY67zVvBI         0.172   0.358    9   \n41102  spotify:track:2MShy1GSSgbmGUxADNIao5         0.910   0.366    1   \n41103  spotify:track:55qBw1900pZKfXJ6Q9A2Lc         0.719   0.804   10   \n41104  spotify:track:4o9npmYHrOF1rUxxTVH8h4         0.600   0.177    7   \n41105  spotify:track:2khIaVUkbMmDHB596lyMG3         0.121   0.123    4   \n\n       loudness  mode  speechiness  ...  instrumentalness  liveness  valence  \\\n0        -7.727     1       0.0403  ...          0.000000    0.0779   0.8450   \n1       -12.475     1       0.0337  ...          0.107000    0.1760   0.7970   \n2       -13.392     1       0.0380  ...          0.000004    0.1190   0.9080   \n3       -12.058     0       0.1040  ...          0.024600    0.0610   0.9670   \n4        -3.515     0       0.1240  ...          0.000872    0.2130   0.9060   \n...         ...   ...          ...  ...               ...       ...      ...   \n41101   -14.430     1       0.0342  ...          0.966000    0.3140   0.0361   \n41102    -9.954     1       0.0941  ...          0.000000    0.2610   0.7400   \n41103    -4.581     1       0.0355  ...          0.000003    0.1390   0.6050   \n41104   -16.070     1       0.0561  ...          0.868000    0.1490   0.5600   \n41105   -23.025     0       0.0443  ...          0.696000    0.1030   0.0297   \n\n         tempo  duration_ms  time_signature  chorus_hit  sections  target  \\\n0      185.655       173533               3    32.94975         9       1   \n1      101.801       213613               4    48.82510        10       0   \n2      115.940       223960               4    37.22663        12       0   \n3      105.592       157907               4    24.75484         8       0   \n4      114.617       245600               4    21.79874        14       0   \n...        ...          ...             ...         ...       ...     ...   \n41101   72.272       150857               4    24.30824         7       0   \n41102  119.985       152000               4    32.53856         8       1   \n41103  119.999       227760               4    20.73371         7       1   \n41104  120.030       213387               4    21.65301        14       0   \n41105   95.182       341396               4    71.05343        15       0   \n\n       decade  \n0         60s  \n1         60s  \n2         60s  \n3         60s  \n4         60s  \n...       ...  \n41101     10s  \n41102     10s  \n41103     10s  \n41104     10s  \n41105     10s  \n\n[41106 rows x 21 columns]",
      "text/html": "<div>\n<style scoped>\n    .dataframe tbody tr th:only-of-type {\n        vertical-align: middle;\n    }\n\n    .dataframe tbody tr th {\n        vertical-align: top;\n    }\n\n    .dataframe thead th {\n        text-align: right;\n    }\n</style>\n<table border=\"1\" class=\"dataframe\">\n  <thead>\n    <tr style=\"text-align: right;\">\n      <th></th>\n      <th>Unnamed: 0</th>\n      <th>track</th>\n      <th>artist</th>\n      <th>uri</th>\n      <th>danceability</th>\n      <th>energy</th>\n      <th>key</th>\n      <th>loudness</th>\n      <th>mode</th>\n      <th>speechiness</th>\n      <th>...</th>\n      <th>instrumentalness</th>\n      <th>liveness</th>\n      <th>valence</th>\n      <th>tempo</th>\n      <th>duration_ms</th>\n      <th>time_signature</th>\n      <th>chorus_hit</th>\n      <th>sections</th>\n      <th>target</th>\n      <th>decade</th>\n    </tr>\n  </thead>\n  <tbody>\n    <tr>\n      <th>0</th>\n      <td>0</td>\n      <td>Jealous Kind Of Fella</td>\n      <td>Garland Green</td>\n      <td>spotify:track:1dtKN6wwlolkM8XZy2y9C1</td>\n      <td>0.417</td>\n      <td>0.620</td>\n      <td>3</td>\n      <td>-7.727</td>\n      <td>1</td>\n      <td>0.0403</td>\n      <td>...</td>\n      <td>0.000000</td>\n      <td>0.0779</td>\n      <td>0.8450</td>\n      <td>185.655</td>\n      <td>173533</td>\n      <td>3</td>\n      <td>32.94975</td>\n      <td>9</td>\n      <td>1</td>\n      <td>60s</td>\n    </tr>\n    <tr>\n      <th>1</th>\n      <td>1</td>\n      <td>Initials B.B.</td>\n      <td>Serge Gainsbourg</td>\n      <td>spotify:track:5hjsmSnUefdUqzsDogisiX</td>\n      <td>0.498</td>\n      <td>0.505</td>\n      <td>3</td>\n      <td>-12.475</td>\n      <td>1</td>\n      <td>0.0337</td>\n      <td>...</td>\n      <td>0.107000</td>\n      <td>0.1760</td>\n      <td>0.7970</td>\n      <td>101.801</td>\n      <td>213613</td>\n      <td>4</td>\n      <td>48.82510</td>\n      <td>10</td>\n      <td>0</td>\n      <td>60s</td>\n    </tr>\n    <tr>\n      <th>2</th>\n      <td>2</td>\n      <td>Melody Twist</td>\n      <td>Lord Melody</td>\n      <td>spotify:track:6uk8tI6pwxxdVTNlNOJeJh</td>\n      <td>0.657</td>\n      <td>0.649</td>\n      <td>5</td>\n      <td>-13.392</td>\n      <td>1</td>\n      <td>0.0380</td>\n      <td>...</td>\n      <td>0.000004</td>\n      <td>0.1190</td>\n      <td>0.9080</td>\n      <td>115.940</td>\n      <td>223960</td>\n      <td>4</td>\n      <td>37.22663</td>\n      <td>12</td>\n      <td>0</td>\n      <td>60s</td>\n    </tr>\n    <tr>\n      <th>3</th>\n      <td>3</td>\n      <td>Mi Bomba Sonó</td>\n      <td>Celia Cruz</td>\n      <td>spotify:track:7aNjMJ05FvUXACPWZ7yJmv</td>\n      <td>0.590</td>\n      <td>0.545</td>\n      <td>7</td>\n      <td>-12.058</td>\n      <td>0</td>\n      <td>0.1040</td>\n      <td>...</td>\n      <td>0.024600</td>\n      <td>0.0610</td>\n      <td>0.9670</td>\n      <td>105.592</td>\n      <td>157907</td>\n      <td>4</td>\n      <td>24.75484</td>\n      <td>8</td>\n      <td>0</td>\n      <td>60s</td>\n    </tr>\n    <tr>\n      <th>4</th>\n      <td>4</td>\n      <td>Uravu Solla</td>\n      <td>P. Susheela</td>\n      <td>spotify:track:1rQ0clvgkzWr001POOPJWx</td>\n      <td>0.515</td>\n      <td>0.765</td>\n      <td>11</td>\n      <td>-3.515</td>\n      <td>0</td>\n      <td>0.1240</td>\n      <td>...</td>\n      <td>0.000872</td>\n      <td>0.2130</td>\n      <td>0.9060</td>\n      <td>114.617</td>\n      <td>245600</td>\n      <td>4</td>\n      <td>21.79874</td>\n      <td>14</td>\n      <td>0</td>\n      <td>60s</td>\n    </tr>\n    <tr>\n      <th>...</th>\n      <td>...</td>\n      <td>...</td>\n      <td>...</td>\n      <td>...</td>\n      <td>...</td>\n      <td>...</td>\n      <td>...</td>\n      <td>...</td>\n      <td>...</td>\n      <td>...</td>\n      <td>...</td>\n      <td>...</td>\n      <td>...</td>\n      <td>...</td>\n      <td>...</td>\n      <td>...</td>\n      <td>...</td>\n      <td>...</td>\n      <td>...</td>\n      <td>...</td>\n      <td>...</td>\n    </tr>\n    <tr>\n      <th>41101</th>\n      <td>41101</td>\n      <td>Lotus Flowers</td>\n      <td>Yolta</td>\n      <td>spotify:track:4t1TljQWJ6ZuoSY67zVvBI</td>\n      <td>0.172</td>\n      <td>0.358</td>\n      <td>9</td>\n      <td>-14.430</td>\n      <td>1</td>\n      <td>0.0342</td>\n      <td>...</td>\n      <td>0.966000</td>\n      <td>0.3140</td>\n      <td>0.0361</td>\n      <td>72.272</td>\n      <td>150857</td>\n      <td>4</td>\n      <td>24.30824</td>\n      <td>7</td>\n      <td>0</td>\n      <td>10s</td>\n    </tr>\n    <tr>\n      <th>41102</th>\n      <td>41102</td>\n      <td>Calling My Spirit</td>\n      <td>Kodak Black</td>\n      <td>spotify:track:2MShy1GSSgbmGUxADNIao5</td>\n      <td>0.910</td>\n      <td>0.366</td>\n      <td>1</td>\n      <td>-9.954</td>\n      <td>1</td>\n      <td>0.0941</td>\n      <td>...</td>\n      <td>0.000000</td>\n      <td>0.2610</td>\n      <td>0.7400</td>\n      <td>119.985</td>\n      <td>152000</td>\n      <td>4</td>\n      <td>32.53856</td>\n      <td>8</td>\n      <td>1</td>\n      <td>10s</td>\n    </tr>\n    <tr>\n      <th>41103</th>\n      <td>41103</td>\n      <td>Teenage Dream</td>\n      <td>Katy Perry</td>\n      <td>spotify:track:55qBw1900pZKfXJ6Q9A2Lc</td>\n      <td>0.719</td>\n      <td>0.804</td>\n      <td>10</td>\n      <td>-4.581</td>\n      <td>1</td>\n      <td>0.0355</td>\n      <td>...</td>\n      <td>0.000003</td>\n      <td>0.1390</td>\n      <td>0.6050</td>\n      <td>119.999</td>\n      <td>227760</td>\n      <td>4</td>\n      <td>20.73371</td>\n      <td>7</td>\n      <td>1</td>\n      <td>10s</td>\n    </tr>\n    <tr>\n      <th>41104</th>\n      <td>41104</td>\n      <td>Stormy Weather</td>\n      <td>Oscar Peterson</td>\n      <td>spotify:track:4o9npmYHrOF1rUxxTVH8h4</td>\n      <td>0.600</td>\n      <td>0.177</td>\n      <td>7</td>\n      <td>-16.070</td>\n      <td>1</td>\n      <td>0.0561</td>\n      <td>...</td>\n      <td>0.868000</td>\n      <td>0.1490</td>\n      <td>0.5600</td>\n      <td>120.030</td>\n      <td>213387</td>\n      <td>4</td>\n      <td>21.65301</td>\n      <td>14</td>\n      <td>0</td>\n      <td>10s</td>\n    </tr>\n    <tr>\n      <th>41105</th>\n      <td>41105</td>\n      <td>Dust</td>\n      <td>Hans Zimmer</td>\n      <td>spotify:track:2khIaVUkbMmDHB596lyMG3</td>\n      <td>0.121</td>\n      <td>0.123</td>\n      <td>4</td>\n      <td>-23.025</td>\n      <td>0</td>\n      <td>0.0443</td>\n      <td>...</td>\n      <td>0.696000</td>\n      <td>0.1030</td>\n      <td>0.0297</td>\n      <td>95.182</td>\n      <td>341396</td>\n      <td>4</td>\n      <td>71.05343</td>\n      <td>15</td>\n      <td>0</td>\n      <td>10s</td>\n    </tr>\n  </tbody>\n</table>\n<p>41106 rows × 21 columns</p>\n</div>"
     },
     "execution_count": 27,
     "metadata": {},
     "output_type": "execute_result"
    }
   ],
   "source": [
    "main_df"
   ],
   "metadata": {
    "collapsed": false,
    "pycharm": {
     "name": "#%%\n"
    }
   }
  },
  {
   "cell_type": "code",
   "execution_count": 28,
   "outputs": [
    {
     "ename": "KeyError",
     "evalue": "'peak_pos'",
     "output_type": "error",
     "traceback": [
      "\u001B[1;31m---------------------------------------------------------------------------\u001B[0m",
      "\u001B[1;31mKeyError\u001B[0m                                  Traceback (most recent call last)",
      "\u001B[1;32mF:\\Programs\\Anaconda3\\envs\\py38_ml\\lib\\site-packages\\pandas\\core\\indexes\\base.py\u001B[0m in \u001B[0;36mget_loc\u001B[1;34m(self, key, method, tolerance)\u001B[0m\n\u001B[0;32m   3079\u001B[0m             \u001B[1;32mtry\u001B[0m\u001B[1;33m:\u001B[0m\u001B[1;33m\u001B[0m\u001B[1;33m\u001B[0m\u001B[0m\n\u001B[1;32m-> 3080\u001B[1;33m                 \u001B[1;32mreturn\u001B[0m \u001B[0mself\u001B[0m\u001B[1;33m.\u001B[0m\u001B[0m_engine\u001B[0m\u001B[1;33m.\u001B[0m\u001B[0mget_loc\u001B[0m\u001B[1;33m(\u001B[0m\u001B[0mcasted_key\u001B[0m\u001B[1;33m)\u001B[0m\u001B[1;33m\u001B[0m\u001B[1;33m\u001B[0m\u001B[0m\n\u001B[0m\u001B[0;32m   3081\u001B[0m             \u001B[1;32mexcept\u001B[0m \u001B[0mKeyError\u001B[0m \u001B[1;32mas\u001B[0m \u001B[0merr\u001B[0m\u001B[1;33m:\u001B[0m\u001B[1;33m\u001B[0m\u001B[1;33m\u001B[0m\u001B[0m\n",
      "\u001B[1;32mpandas\\_libs\\index.pyx\u001B[0m in \u001B[0;36mpandas._libs.index.IndexEngine.get_loc\u001B[1;34m()\u001B[0m\n",
      "\u001B[1;32mpandas\\_libs\\index.pyx\u001B[0m in \u001B[0;36mpandas._libs.index.IndexEngine.get_loc\u001B[1;34m()\u001B[0m\n",
      "\u001B[1;32mpandas\\_libs\\hashtable_class_helper.pxi\u001B[0m in \u001B[0;36mpandas._libs.hashtable.PyObjectHashTable.get_item\u001B[1;34m()\u001B[0m\n",
      "\u001B[1;32mpandas\\_libs\\hashtable_class_helper.pxi\u001B[0m in \u001B[0;36mpandas._libs.hashtable.PyObjectHashTable.get_item\u001B[1;34m()\u001B[0m\n",
      "\u001B[1;31mKeyError\u001B[0m: 'peak_pos'",
      "\nThe above exception was the direct cause of the following exception:\n",
      "\u001B[1;31mKeyError\u001B[0m                                  Traceback (most recent call last)",
      "\u001B[1;32m<ipython-input-28-46a0fc1e8d11>\u001B[0m in \u001B[0;36m<module>\u001B[1;34m\u001B[0m\n\u001B[1;32m----> 1\u001B[1;33m \u001B[0mmain_df\u001B[0m\u001B[1;33m[\u001B[0m\u001B[1;34m'peak_pos'\u001B[0m\u001B[1;33m]\u001B[0m\u001B[1;33m\u001B[0m\u001B[1;33m\u001B[0m\u001B[0m\n\u001B[0m",
      "\u001B[1;32mF:\\Programs\\Anaconda3\\envs\\py38_ml\\lib\\site-packages\\pandas\\core\\frame.py\u001B[0m in \u001B[0;36m__getitem__\u001B[1;34m(self, key)\u001B[0m\n\u001B[0;32m   3022\u001B[0m             \u001B[1;32mif\u001B[0m \u001B[0mself\u001B[0m\u001B[1;33m.\u001B[0m\u001B[0mcolumns\u001B[0m\u001B[1;33m.\u001B[0m\u001B[0mnlevels\u001B[0m \u001B[1;33m>\u001B[0m \u001B[1;36m1\u001B[0m\u001B[1;33m:\u001B[0m\u001B[1;33m\u001B[0m\u001B[1;33m\u001B[0m\u001B[0m\n\u001B[0;32m   3023\u001B[0m                 \u001B[1;32mreturn\u001B[0m \u001B[0mself\u001B[0m\u001B[1;33m.\u001B[0m\u001B[0m_getitem_multilevel\u001B[0m\u001B[1;33m(\u001B[0m\u001B[0mkey\u001B[0m\u001B[1;33m)\u001B[0m\u001B[1;33m\u001B[0m\u001B[1;33m\u001B[0m\u001B[0m\n\u001B[1;32m-> 3024\u001B[1;33m             \u001B[0mindexer\u001B[0m \u001B[1;33m=\u001B[0m \u001B[0mself\u001B[0m\u001B[1;33m.\u001B[0m\u001B[0mcolumns\u001B[0m\u001B[1;33m.\u001B[0m\u001B[0mget_loc\u001B[0m\u001B[1;33m(\u001B[0m\u001B[0mkey\u001B[0m\u001B[1;33m)\u001B[0m\u001B[1;33m\u001B[0m\u001B[1;33m\u001B[0m\u001B[0m\n\u001B[0m\u001B[0;32m   3025\u001B[0m             \u001B[1;32mif\u001B[0m \u001B[0mis_integer\u001B[0m\u001B[1;33m(\u001B[0m\u001B[0mindexer\u001B[0m\u001B[1;33m)\u001B[0m\u001B[1;33m:\u001B[0m\u001B[1;33m\u001B[0m\u001B[1;33m\u001B[0m\u001B[0m\n\u001B[0;32m   3026\u001B[0m                 \u001B[0mindexer\u001B[0m \u001B[1;33m=\u001B[0m \u001B[1;33m[\u001B[0m\u001B[0mindexer\u001B[0m\u001B[1;33m]\u001B[0m\u001B[1;33m\u001B[0m\u001B[1;33m\u001B[0m\u001B[0m\n",
      "\u001B[1;32mF:\\Programs\\Anaconda3\\envs\\py38_ml\\lib\\site-packages\\pandas\\core\\indexes\\base.py\u001B[0m in \u001B[0;36mget_loc\u001B[1;34m(self, key, method, tolerance)\u001B[0m\n\u001B[0;32m   3080\u001B[0m                 \u001B[1;32mreturn\u001B[0m \u001B[0mself\u001B[0m\u001B[1;33m.\u001B[0m\u001B[0m_engine\u001B[0m\u001B[1;33m.\u001B[0m\u001B[0mget_loc\u001B[0m\u001B[1;33m(\u001B[0m\u001B[0mcasted_key\u001B[0m\u001B[1;33m)\u001B[0m\u001B[1;33m\u001B[0m\u001B[1;33m\u001B[0m\u001B[0m\n\u001B[0;32m   3081\u001B[0m             \u001B[1;32mexcept\u001B[0m \u001B[0mKeyError\u001B[0m \u001B[1;32mas\u001B[0m \u001B[0merr\u001B[0m\u001B[1;33m:\u001B[0m\u001B[1;33m\u001B[0m\u001B[1;33m\u001B[0m\u001B[0m\n\u001B[1;32m-> 3082\u001B[1;33m                 \u001B[1;32mraise\u001B[0m \u001B[0mKeyError\u001B[0m\u001B[1;33m(\u001B[0m\u001B[0mkey\u001B[0m\u001B[1;33m)\u001B[0m \u001B[1;32mfrom\u001B[0m \u001B[0merr\u001B[0m\u001B[1;33m\u001B[0m\u001B[1;33m\u001B[0m\u001B[0m\n\u001B[0m\u001B[0;32m   3083\u001B[0m \u001B[1;33m\u001B[0m\u001B[0m\n\u001B[0;32m   3084\u001B[0m         \u001B[1;32mif\u001B[0m \u001B[0mtolerance\u001B[0m \u001B[1;32mis\u001B[0m \u001B[1;32mnot\u001B[0m \u001B[1;32mNone\u001B[0m\u001B[1;33m:\u001B[0m\u001B[1;33m\u001B[0m\u001B[1;33m\u001B[0m\u001B[0m\n",
      "\u001B[1;31mKeyError\u001B[0m: 'peak_pos'"
     ]
    }
   ],
   "source": [
    "main_df['peak_pos']"
   ],
   "metadata": {
    "collapsed": false,
    "pycharm": {
     "name": "#%%\n"
    }
   }
  }
 ],
 "metadata": {
  "kernelspec": {
   "name": "python3",
   "language": "python",
   "display_name": "Python 3"
  },
  "language_info": {
   "codemirror_mode": {
    "name": "ipython",
    "version": 2
   },
   "file_extension": ".py",
   "mimetype": "text/x-python",
   "name": "python",
   "nbconvert_exporter": "python",
   "pygments_lexer": "ipython2",
   "version": "2.7.6"
  }
 },
 "nbformat": 4,
 "nbformat_minor": 0
}