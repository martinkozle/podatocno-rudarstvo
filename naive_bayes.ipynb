{
 "cells": [
  {
   "cell_type": "markdown",
   "metadata": {
    "collapsed": true,
    "pycharm": {
     "name": "#%% md\n"
    }
   },
   "source": [
    "## Naive Bayes"
   ]
  },
  {
   "cell_type": "code",
   "execution_count": 73,
   "outputs": [],
   "source": [
    "from sklearn.naive_bayes import GaussianNB\n",
    "from sklearn.model_selection import train_test_split\n",
    "from sklearn.metrics import accuracy_score\n",
    "from sklearn.preprocessing import LabelEncoder\n",
    "import pandas as pd\n",
    "import seaborn as sns\n",
    "import numpy as np"
   ],
   "metadata": {
    "collapsed": false,
    "pycharm": {
     "name": "#%%\n"
    }
   }
  },
  {
   "cell_type": "code",
   "execution_count": 61,
   "outputs": [
    {
     "data": {
      "text/plain": "                   track            artist  \\\n0  Jealous Kind Of Fella     Garland Green   \n1          Initials B.B.  Serge Gainsbourg   \n2           Melody Twist       Lord Melody   \n3          Mi Bomba Sonó        Celia Cruz   \n4            Uravu Solla       P. Susheela   \n\n                                    uri  danceability  energy  key  loudness  \\\n0  spotify:track:1dtKN6wwlolkM8XZy2y9C1         0.417   0.620    3    -7.727   \n1  spotify:track:5hjsmSnUefdUqzsDogisiX         0.498   0.505    3   -12.475   \n2  spotify:track:6uk8tI6pwxxdVTNlNOJeJh         0.657   0.649    5   -13.392   \n3  spotify:track:7aNjMJ05FvUXACPWZ7yJmv         0.590   0.545    7   -12.058   \n4  spotify:track:1rQ0clvgkzWr001POOPJWx         0.515   0.765   11    -3.515   \n\n   mode  speechiness  acousticness  ...  liveness  valence    tempo  \\\n0     1       0.0403         0.490  ...    0.0779    0.845  185.655   \n1     1       0.0337         0.018  ...    0.1760    0.797  101.801   \n2     1       0.0380         0.846  ...    0.1190    0.908  115.940   \n3     0       0.1040         0.706  ...    0.0610    0.967  105.592   \n4     0       0.1240         0.857  ...    0.2130    0.906  114.617   \n\n   duration_ms  time_signature  chorus_hit  sections  target  decade  genre  \n0       173533               3    32.94975         9       1      60    NaN  \n1       213613               4    48.82510        10       0      60    pop  \n2       223960               4    37.22663        12       0      60    NaN  \n3       157907               4    24.75484         8       0      60    NaN  \n4       245600               4    21.79874        14       0      60    NaN  \n\n[5 rows x 21 columns]",
      "text/html": "<div>\n<style scoped>\n    .dataframe tbody tr th:only-of-type {\n        vertical-align: middle;\n    }\n\n    .dataframe tbody tr th {\n        vertical-align: top;\n    }\n\n    .dataframe thead th {\n        text-align: right;\n    }\n</style>\n<table border=\"1\" class=\"dataframe\">\n  <thead>\n    <tr style=\"text-align: right;\">\n      <th></th>\n      <th>track</th>\n      <th>artist</th>\n      <th>uri</th>\n      <th>danceability</th>\n      <th>energy</th>\n      <th>key</th>\n      <th>loudness</th>\n      <th>mode</th>\n      <th>speechiness</th>\n      <th>acousticness</th>\n      <th>...</th>\n      <th>liveness</th>\n      <th>valence</th>\n      <th>tempo</th>\n      <th>duration_ms</th>\n      <th>time_signature</th>\n      <th>chorus_hit</th>\n      <th>sections</th>\n      <th>target</th>\n      <th>decade</th>\n      <th>genre</th>\n    </tr>\n  </thead>\n  <tbody>\n    <tr>\n      <th>0</th>\n      <td>Jealous Kind Of Fella</td>\n      <td>Garland Green</td>\n      <td>spotify:track:1dtKN6wwlolkM8XZy2y9C1</td>\n      <td>0.417</td>\n      <td>0.620</td>\n      <td>3</td>\n      <td>-7.727</td>\n      <td>1</td>\n      <td>0.0403</td>\n      <td>0.490</td>\n      <td>...</td>\n      <td>0.0779</td>\n      <td>0.845</td>\n      <td>185.655</td>\n      <td>173533</td>\n      <td>3</td>\n      <td>32.94975</td>\n      <td>9</td>\n      <td>1</td>\n      <td>60</td>\n      <td>NaN</td>\n    </tr>\n    <tr>\n      <th>1</th>\n      <td>Initials B.B.</td>\n      <td>Serge Gainsbourg</td>\n      <td>spotify:track:5hjsmSnUefdUqzsDogisiX</td>\n      <td>0.498</td>\n      <td>0.505</td>\n      <td>3</td>\n      <td>-12.475</td>\n      <td>1</td>\n      <td>0.0337</td>\n      <td>0.018</td>\n      <td>...</td>\n      <td>0.1760</td>\n      <td>0.797</td>\n      <td>101.801</td>\n      <td>213613</td>\n      <td>4</td>\n      <td>48.82510</td>\n      <td>10</td>\n      <td>0</td>\n      <td>60</td>\n      <td>pop</td>\n    </tr>\n    <tr>\n      <th>2</th>\n      <td>Melody Twist</td>\n      <td>Lord Melody</td>\n      <td>spotify:track:6uk8tI6pwxxdVTNlNOJeJh</td>\n      <td>0.657</td>\n      <td>0.649</td>\n      <td>5</td>\n      <td>-13.392</td>\n      <td>1</td>\n      <td>0.0380</td>\n      <td>0.846</td>\n      <td>...</td>\n      <td>0.1190</td>\n      <td>0.908</td>\n      <td>115.940</td>\n      <td>223960</td>\n      <td>4</td>\n      <td>37.22663</td>\n      <td>12</td>\n      <td>0</td>\n      <td>60</td>\n      <td>NaN</td>\n    </tr>\n    <tr>\n      <th>3</th>\n      <td>Mi Bomba Sonó</td>\n      <td>Celia Cruz</td>\n      <td>spotify:track:7aNjMJ05FvUXACPWZ7yJmv</td>\n      <td>0.590</td>\n      <td>0.545</td>\n      <td>7</td>\n      <td>-12.058</td>\n      <td>0</td>\n      <td>0.1040</td>\n      <td>0.706</td>\n      <td>...</td>\n      <td>0.0610</td>\n      <td>0.967</td>\n      <td>105.592</td>\n      <td>157907</td>\n      <td>4</td>\n      <td>24.75484</td>\n      <td>8</td>\n      <td>0</td>\n      <td>60</td>\n      <td>NaN</td>\n    </tr>\n    <tr>\n      <th>4</th>\n      <td>Uravu Solla</td>\n      <td>P. Susheela</td>\n      <td>spotify:track:1rQ0clvgkzWr001POOPJWx</td>\n      <td>0.515</td>\n      <td>0.765</td>\n      <td>11</td>\n      <td>-3.515</td>\n      <td>0</td>\n      <td>0.1240</td>\n      <td>0.857</td>\n      <td>...</td>\n      <td>0.2130</td>\n      <td>0.906</td>\n      <td>114.617</td>\n      <td>245600</td>\n      <td>4</td>\n      <td>21.79874</td>\n      <td>14</td>\n      <td>0</td>\n      <td>60</td>\n      <td>NaN</td>\n    </tr>\n  </tbody>\n</table>\n<p>5 rows × 21 columns</p>\n</div>"
     },
     "execution_count": 61,
     "metadata": {},
     "output_type": "execute_result"
    }
   ],
   "source": [
    "le=LabelEncoder()\n",
    "df=pd.read_csv('data/dataset.csv')\n",
    "df.head(5)"
   ],
   "metadata": {
    "collapsed": false,
    "pycharm": {
     "name": "#%%\n"
    }
   }
  },
  {
   "cell_type": "markdown",
   "source": [
    "## Encoding the data"
   ],
   "metadata": {
    "collapsed": false,
    "pycharm": {
     "name": "#%% md\n"
    }
   }
  },
  {
   "cell_type": "code",
   "execution_count": 81,
   "outputs": [
    {
     "name": "stderr",
     "output_type": "stream",
     "text": [
      "<ipython-input-81-ab4c0b7145a3>:5: SettingWithCopyWarning: \n",
      "A value is trying to be set on a copy of a slice from a DataFrame.\n",
      "Try using .loc[row_indexer,col_indexer] = value instead\n",
      "\n",
      "See the caveats in the documentation: https://pandas.pydata.org/pandas-docs/stable/user_guide/indexing.html#returning-a-view-versus-a-copy\n",
      "  data_encoded['n_decade']=le.fit_transform(data_encoded['decade'])\n",
      "<ipython-input-81-ab4c0b7145a3>:6: SettingWithCopyWarning: \n",
      "A value is trying to be set on a copy of a slice from a DataFrame.\n",
      "Try using .loc[row_indexer,col_indexer] = value instead\n",
      "\n",
      "See the caveats in the documentation: https://pandas.pydata.org/pandas-docs/stable/user_guide/indexing.html#returning-a-view-versus-a-copy\n",
      "  data_encoded['n_genre']=le.fit_transform(data_encoded['genre'])\n"
     ]
    },
    {
     "data": {
      "text/plain": "array([1406, 1291, 1435, ..., 1590,  963,  909], dtype=int64)"
     },
     "execution_count": 81,
     "metadata": {},
     "output_type": "execute_result"
    }
   ],
   "source": [
    "data_encoded=df[[\"danceability\",\"energy\",\"key\",\"loudness\",\"mode\",\n",
    "                                 \"speechiness\",\"instrumentalness\",\"acousticness\",\"liveness\",\"valence\",\"tempo\",\n",
    "                                 \"duration_ms\",\"chorus_hit\",\"decade\",\"genre\"]]\n",
    "\n",
    "data_encoded['n_decade']=le.fit_transform(data_encoded['decade'])\n",
    "data_encoded['n_genre']=le.fit_transform(data_encoded['genre'])\n",
    "data_encoded=data_encoded.drop(['genre','decade'],axis=1)\n",
    "#data_encoded.head(5)"
   ],
   "metadata": {
    "collapsed": false,
    "pycharm": {
     "name": "#%%\n"
    }
   }
  },
  {
   "cell_type": "markdown",
   "source": [
    "## Splitting the dataset into train and test sets"
   ],
   "metadata": {
    "collapsed": false,
    "pycharm": {
     "name": "#%% md\n"
    }
   }
  },
  {
   "cell_type": "code",
   "execution_count": 63,
   "outputs": [
    {
     "data": {
      "text/plain": "       danceability   energy  key  loudness  mode  speechiness  \\\n14533         0.504  0.71900    1    -9.155     0       0.0431   \n26877         0.704  0.56400    4    -8.191     1       0.0686   \n25645         0.668  0.26100    7   -13.003     1       0.0405   \n24901         0.220  0.00792    7   -36.240     1       0.0490   \n39978         0.768  0.88100    9    -4.392     0       0.1130   \n\n       instrumentalness  acousticness  liveness  valence    tempo  \\\n14533          0.001490       0.00878    0.0750    0.177  102.144   \n26877          0.003840       0.44400    0.1110    0.338  145.996   \n25645          0.000391       0.58800    0.1160    0.282  147.446   \n24901          0.250000       0.96400    0.0974    0.147   80.829   \n39978          0.000004       0.01880    0.2980    0.502   99.980   \n\n       duration_ms  chorus_hit  n_decade  \n14533       386707    47.78909         3  \n26877       291573    54.28951         5  \n25645       219493    19.93794         5  \n24901       245427    31.37379         5  \n39978       201238    23.14334         1  ",
      "text/html": "<div>\n<style scoped>\n    .dataframe tbody tr th:only-of-type {\n        vertical-align: middle;\n    }\n\n    .dataframe tbody tr th {\n        vertical-align: top;\n    }\n\n    .dataframe thead th {\n        text-align: right;\n    }\n</style>\n<table border=\"1\" class=\"dataframe\">\n  <thead>\n    <tr style=\"text-align: right;\">\n      <th></th>\n      <th>danceability</th>\n      <th>energy</th>\n      <th>key</th>\n      <th>loudness</th>\n      <th>mode</th>\n      <th>speechiness</th>\n      <th>instrumentalness</th>\n      <th>acousticness</th>\n      <th>liveness</th>\n      <th>valence</th>\n      <th>tempo</th>\n      <th>duration_ms</th>\n      <th>chorus_hit</th>\n      <th>n_decade</th>\n    </tr>\n  </thead>\n  <tbody>\n    <tr>\n      <th>14533</th>\n      <td>0.504</td>\n      <td>0.71900</td>\n      <td>1</td>\n      <td>-9.155</td>\n      <td>0</td>\n      <td>0.0431</td>\n      <td>0.001490</td>\n      <td>0.00878</td>\n      <td>0.0750</td>\n      <td>0.177</td>\n      <td>102.144</td>\n      <td>386707</td>\n      <td>47.78909</td>\n      <td>3</td>\n    </tr>\n    <tr>\n      <th>26877</th>\n      <td>0.704</td>\n      <td>0.56400</td>\n      <td>4</td>\n      <td>-8.191</td>\n      <td>1</td>\n      <td>0.0686</td>\n      <td>0.003840</td>\n      <td>0.44400</td>\n      <td>0.1110</td>\n      <td>0.338</td>\n      <td>145.996</td>\n      <td>291573</td>\n      <td>54.28951</td>\n      <td>5</td>\n    </tr>\n    <tr>\n      <th>25645</th>\n      <td>0.668</td>\n      <td>0.26100</td>\n      <td>7</td>\n      <td>-13.003</td>\n      <td>1</td>\n      <td>0.0405</td>\n      <td>0.000391</td>\n      <td>0.58800</td>\n      <td>0.1160</td>\n      <td>0.282</td>\n      <td>147.446</td>\n      <td>219493</td>\n      <td>19.93794</td>\n      <td>5</td>\n    </tr>\n    <tr>\n      <th>24901</th>\n      <td>0.220</td>\n      <td>0.00792</td>\n      <td>7</td>\n      <td>-36.240</td>\n      <td>1</td>\n      <td>0.0490</td>\n      <td>0.250000</td>\n      <td>0.96400</td>\n      <td>0.0974</td>\n      <td>0.147</td>\n      <td>80.829</td>\n      <td>245427</td>\n      <td>31.37379</td>\n      <td>5</td>\n    </tr>\n    <tr>\n      <th>39978</th>\n      <td>0.768</td>\n      <td>0.88100</td>\n      <td>9</td>\n      <td>-4.392</td>\n      <td>0</td>\n      <td>0.1130</td>\n      <td>0.000004</td>\n      <td>0.01880</td>\n      <td>0.2980</td>\n      <td>0.502</td>\n      <td>99.980</td>\n      <td>201238</td>\n      <td>23.14334</td>\n      <td>1</td>\n    </tr>\n  </tbody>\n</table>\n</div>"
     },
     "execution_count": 63,
     "metadata": {},
     "output_type": "execute_result"
    }
   ],
   "source": [
    "trainX,testX,trainY,testY=train_test_split(data_encoded.drop('n_genre',axis=1),\n",
    "                                           data_encoded[['n_genre']])\n",
    "trainX.head(5)"
   ],
   "metadata": {
    "collapsed": false,
    "pycharm": {
     "name": "#%%\n"
    }
   }
  },
  {
   "cell_type": "code",
   "execution_count": 64,
   "outputs": [
    {
     "data": {
      "text/plain": "GaussianNB()"
     },
     "execution_count": 64,
     "metadata": {},
     "output_type": "execute_result"
    }
   ],
   "source": [
    "nb_model=GaussianNB()\n",
    "nb_model.fit(trainX,trainY.squeeze())"
   ],
   "metadata": {
    "collapsed": false,
    "pycharm": {
     "name": "#%%\n"
    }
   }
  },
  {
   "cell_type": "code",
   "execution_count": 65,
   "outputs": [
    {
     "data": {
      "text/plain": "       actual  predicted\n14190       7          9\n31939       9          9\n29975       3          9\n2539        9          9\n33426       7          9",
      "text/html": "<div>\n<style scoped>\n    .dataframe tbody tr th:only-of-type {\n        vertical-align: middle;\n    }\n\n    .dataframe tbody tr th {\n        vertical-align: top;\n    }\n\n    .dataframe thead th {\n        text-align: right;\n    }\n</style>\n<table border=\"1\" class=\"dataframe\">\n  <thead>\n    <tr style=\"text-align: right;\">\n      <th></th>\n      <th>actual</th>\n      <th>predicted</th>\n    </tr>\n  </thead>\n  <tbody>\n    <tr>\n      <th>14190</th>\n      <td>7</td>\n      <td>9</td>\n    </tr>\n    <tr>\n      <th>31939</th>\n      <td>9</td>\n      <td>9</td>\n    </tr>\n    <tr>\n      <th>29975</th>\n      <td>3</td>\n      <td>9</td>\n    </tr>\n    <tr>\n      <th>2539</th>\n      <td>9</td>\n      <td>9</td>\n    </tr>\n    <tr>\n      <th>33426</th>\n      <td>7</td>\n      <td>9</td>\n    </tr>\n  </tbody>\n</table>\n</div>"
     },
     "execution_count": 65,
     "metadata": {},
     "output_type": "execute_result"
    }
   ],
   "source": [
    "nb_model_predict=nb_model.predict(testX)\n",
    "result_nb=pd.DataFrame({'actual':testY.n_genre,'predicted':nb_model_predict})\n",
    "result_nb.head(5)"
   ],
   "metadata": {
    "collapsed": false,
    "pycharm": {
     "name": "#%%\n"
    }
   }
  },
  {
   "cell_type": "code",
   "execution_count": 80,
   "outputs": [
    {
     "data": {
      "text/plain": "array([1, 4, 5, 6, 8, 9])"
     },
     "execution_count": 80,
     "metadata": {},
     "output_type": "execute_result"
    }
   ],
   "source": [
    "conf_matrix_nb=pd.crosstab(le.inverse_transform(result_nb['actual']),\n",
    "                           le.inverse_transform(result_nb['predicted']),\n",
    "                           rownames=['Actual'],\n",
    "                           colnames=['Predicted'])\n",
    "#conf_matrix=pd.crosstab(le.inverse_transform(result_entropy['actual']),le.inverse_transform(result_entropy['predicted']))\n",
    "#conf_matrix_nb\n",
    "np.unique(result_nb['predicted'])"
   ],
   "metadata": {
    "collapsed": false,
    "pycharm": {
     "name": "#%%\n"
    }
   }
  },
  {
   "cell_type": "code",
   "execution_count": 67,
   "outputs": [
    {
     "data": {
      "text/plain": "<AxesSubplot:xlabel='Predicted', ylabel='Actual'>"
     },
     "execution_count": 67,
     "metadata": {},
     "output_type": "execute_result"
    },
    {
     "data": {
      "text/plain": "<Figure size 432x288 with 2 Axes>",
      "image/png": "[encoded data removed]"
     },
     "metadata": {
      "needs_background": "light"
     },
     "output_type": "display_data"
    }
   ],
   "source": [
    "sns.heatmap(conf_matrix_nb)"
   ],
   "metadata": {
    "collapsed": false,
    "pycharm": {
     "name": "#%%\n"
    }
   }
  },
  {
   "cell_type": "code",
   "execution_count": 68,
   "outputs": [
    {
     "data": {
      "text/plain": "0.4620998345820765"
     },
     "execution_count": 68,
     "metadata": {},
     "output_type": "execute_result"
    }
   ],
   "source": [
    "accuracy_score(result_nb['actual'],result_nb['predicted'])"
   ],
   "metadata": {
    "collapsed": false,
    "pycharm": {
     "name": "#%%\n"
    }
   }
  },
  {
   "cell_type": "code",
   "execution_count": 68,
   "outputs": [],
   "source": [],
   "metadata": {
    "collapsed": false,
    "pycharm": {
     "name": "#%%\n"
    }
   }
  }
 ],
 "metadata": {
  "kernelspec": {
   "display_name": "Python 3",
   "language": "python",
   "name": "python3"
  },
  "language_info": {
   "codemirror_mode": {
    "name": "ipython",
    "version": 2
   },
   "file_extension": ".py",
   "mimetype": "text/x-python",
   "name": "python",
   "nbconvert_exporter": "python",
   "pygments_lexer": "ipython2",
   "version": "2.7.6"
  }
 },
 "nbformat": 4,
 "nbformat_minor": 0
}