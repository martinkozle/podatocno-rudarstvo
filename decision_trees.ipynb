{
 "cells": [
  {
   "cell_type": "markdown",
   "metadata": {
    "collapsed": true,
    "pycharm": {
     "name": "#%% md\n"
    }
   },
   "source": [
    "# Decision Trees"
   ]
  },
  {
   "cell_type": "code",
   "execution_count": 502,
   "outputs": [],
   "source": [
    "import numpy as np\n",
    "import pandas as pd\n",
    "from sklearn.metrics import accuracy_score\n",
    "from sklearn.tree import  DecisionTreeClassifier,export_graphviz\n",
    "from sklearn.ensemble import RandomForestClassifier\n",
    "from  sklearn.model_selection import train_test_split\n",
    "from sklearn.preprocessing import LabelEncoder\n",
    "import seaborn as sns"
   ],
   "metadata": {
    "collapsed": false,
    "pycharm": {
     "name": "#%%\n"
    }
   }
  },
  {
   "cell_type": "code",
   "execution_count": 503,
   "outputs": [
    {
     "data": {
      "text/plain": "                                    track                artist  \\\n1                           Initials B.B.      Serge Gainsbourg   \n6   Samba De Uma Nota So (One Note Samba)  Antônio Carlos Jobim   \n9                        I Can Hear Music        The Beach Boys   \n11                              Ride Away           Roy Orbison   \n13                               P.T. 109            Jimmy Dean   \n\n                                     uri  danceability  energy  key  loudness  \\\n1   spotify:track:5hjsmSnUefdUqzsDogisiX         0.498   0.505    3   -12.475   \n6   spotify:track:62eoocmGk59EMfuRcLBvUL         0.662   0.272    0   -18.883   \n9   spotify:track:1hcMfYTsRTC4hIKbfosxjz         0.511   0.603    2    -7.637   \n11  spotify:track:1nxSCulSg5AtmExqgHPPC0         0.520   0.411    9   -12.411   \n13  spotify:track:3vfNUZeVUiwWXwsEXjagqL         0.746   0.666    2   -10.408   \n\n    mode  speechiness  acousticness  instrumentalness  liveness  valence  \\\n1      1       0.0337        0.0180          0.107000    0.1760    0.797   \n6      1       0.0313        0.3600          0.228000    0.0963    0.591   \n9      1       0.0280        0.0385          0.000002    0.1420    0.685   \n11     1       0.0315        0.7860          0.001200    0.1460    0.350   \n13     1       0.1460        0.5430          0.000000    0.0488    0.840   \n\n      tempo  duration_ms  time_signature  chorus_hit  sections  target  \\\n1   101.801       213613               4    48.82510        10       0   \n6   143.507       134360               4    47.82155         7       0   \n9   128.336       157293               4    43.36534         9       1   \n11  120.290       207573               4    37.54527         9       1   \n13   94.024       192427               4    78.59848         5       1   \n\n    decade    genre  \n1       60      pop  \n6       60     jazz  \n9       60      pop  \n11      60      pop  \n13      60  country  ",
      "text/html": "<div>\n<style scoped>\n    .dataframe tbody tr th:only-of-type {\n        vertical-align: middle;\n    }\n\n    .dataframe tbody tr th {\n        vertical-align: top;\n    }\n\n    .dataframe thead th {\n        text-align: right;\n    }\n</style>\n<table border=\"1\" class=\"dataframe\">\n  <thead>\n    <tr style=\"text-align: right;\">\n      <th></th>\n      <th>track</th>\n      <th>artist</th>\n      <th>uri</th>\n      <th>danceability</th>\n      <th>energy</th>\n      <th>key</th>\n      <th>loudness</th>\n      <th>mode</th>\n      <th>speechiness</th>\n      <th>acousticness</th>\n      <th>instrumentalness</th>\n      <th>liveness</th>\n      <th>valence</th>\n      <th>tempo</th>\n      <th>duration_ms</th>\n      <th>time_signature</th>\n      <th>chorus_hit</th>\n      <th>sections</th>\n      <th>target</th>\n      <th>decade</th>\n      <th>genre</th>\n    </tr>\n  </thead>\n  <tbody>\n    <tr>\n      <th>1</th>\n      <td>Initials B.B.</td>\n      <td>Serge Gainsbourg</td>\n      <td>spotify:track:5hjsmSnUefdUqzsDogisiX</td>\n      <td>0.498</td>\n      <td>0.505</td>\n      <td>3</td>\n      <td>-12.475</td>\n      <td>1</td>\n      <td>0.0337</td>\n      <td>0.0180</td>\n      <td>0.107000</td>\n      <td>0.1760</td>\n      <td>0.797</td>\n      <td>101.801</td>\n      <td>213613</td>\n      <td>4</td>\n      <td>48.82510</td>\n      <td>10</td>\n      <td>0</td>\n      <td>60</td>\n      <td>pop</td>\n    </tr>\n    <tr>\n      <th>6</th>\n      <td>Samba De Uma Nota So (One Note Samba)</td>\n      <td>Antônio Carlos Jobim</td>\n      <td>spotify:track:62eoocmGk59EMfuRcLBvUL</td>\n      <td>0.662</td>\n      <td>0.272</td>\n      <td>0</td>\n      <td>-18.883</td>\n      <td>1</td>\n      <td>0.0313</td>\n      <td>0.3600</td>\n      <td>0.228000</td>\n      <td>0.0963</td>\n      <td>0.591</td>\n      <td>143.507</td>\n      <td>134360</td>\n      <td>4</td>\n      <td>47.82155</td>\n      <td>7</td>\n      <td>0</td>\n      <td>60</td>\n      <td>jazz</td>\n    </tr>\n    <tr>\n      <th>9</th>\n      <td>I Can Hear Music</td>\n      <td>The Beach Boys</td>\n      <td>spotify:track:1hcMfYTsRTC4hIKbfosxjz</td>\n      <td>0.511</td>\n      <td>0.603</td>\n      <td>2</td>\n      <td>-7.637</td>\n      <td>1</td>\n      <td>0.0280</td>\n      <td>0.0385</td>\n      <td>0.000002</td>\n      <td>0.1420</td>\n      <td>0.685</td>\n      <td>128.336</td>\n      <td>157293</td>\n      <td>4</td>\n      <td>43.36534</td>\n      <td>9</td>\n      <td>1</td>\n      <td>60</td>\n      <td>pop</td>\n    </tr>\n    <tr>\n      <th>11</th>\n      <td>Ride Away</td>\n      <td>Roy Orbison</td>\n      <td>spotify:track:1nxSCulSg5AtmExqgHPPC0</td>\n      <td>0.520</td>\n      <td>0.411</td>\n      <td>9</td>\n      <td>-12.411</td>\n      <td>1</td>\n      <td>0.0315</td>\n      <td>0.7860</td>\n      <td>0.001200</td>\n      <td>0.1460</td>\n      <td>0.350</td>\n      <td>120.290</td>\n      <td>207573</td>\n      <td>4</td>\n      <td>37.54527</td>\n      <td>9</td>\n      <td>1</td>\n      <td>60</td>\n      <td>pop</td>\n    </tr>\n    <tr>\n      <th>13</th>\n      <td>P.T. 109</td>\n      <td>Jimmy Dean</td>\n      <td>spotify:track:3vfNUZeVUiwWXwsEXjagqL</td>\n      <td>0.746</td>\n      <td>0.666</td>\n      <td>2</td>\n      <td>-10.408</td>\n      <td>1</td>\n      <td>0.1460</td>\n      <td>0.5430</td>\n      <td>0.000000</td>\n      <td>0.0488</td>\n      <td>0.840</td>\n      <td>94.024</td>\n      <td>192427</td>\n      <td>4</td>\n      <td>78.59848</td>\n      <td>5</td>\n      <td>1</td>\n      <td>60</td>\n      <td>country</td>\n    </tr>\n  </tbody>\n</table>\n</div>"
     },
     "execution_count": 503,
     "metadata": {},
     "output_type": "execute_result"
    }
   ],
   "source": [
    "pd.set_option('display.max_columns', None)\n",
    "sp_data=pd.read_csv('data/dataset.csv')\n",
    "sp_data.genre.value_counts()\n",
    "sp_data = sp_data[sp_data['genre'].notnull()]\n",
    "#sp_data = sp_data[(sp_data['genre']=='pop') |\n",
    "#                  (sp_data['genre']=='rock')]\n",
    "sp_data.head(5)"
   ],
   "metadata": {
    "collapsed": false,
    "pycharm": {
     "name": "#%%\n"
    }
   }
  },
  {
   "cell_type": "code",
   "execution_count": 504,
   "outputs": [
    {
     "name": "stderr",
     "output_type": "stream",
     "text": [
      "<ipython-input-504-a963430cb19b>:5: SettingWithCopyWarning: \n",
      "A value is trying to be set on a copy of a slice from a DataFrame.\n",
      "Try using .loc[row_indexer,col_indexer] = value instead\n",
      "\n",
      "See the caveats in the documentation: https://pandas.pydata.org/pandas-docs/stable/user_guide/indexing.html#returning-a-view-versus-a-copy\n",
      "  sp_data_encoded['n_decade']=le.fit_transform(sp_data_encoded['decade'])\n",
      "<ipython-input-504-a963430cb19b>:6: SettingWithCopyWarning: \n",
      "A value is trying to be set on a copy of a slice from a DataFrame.\n",
      "Try using .loc[row_indexer,col_indexer] = value instead\n",
      "\n",
      "See the caveats in the documentation: https://pandas.pydata.org/pandas-docs/stable/user_guide/indexing.html#returning-a-view-versus-a-copy\n",
      "  sp_data_encoded[\"n_genre\"]=le.fit_transform(sp_data_encoded['genre'])\n"
     ]
    },
    {
     "data": {
      "text/plain": "    danceability  energy  key  loudness  mode  speechiness  instrumentalness  \\\n1          0.498   0.505    3   -12.475     1       0.0337          0.107000   \n6          0.662   0.272    0   -18.883     1       0.0313          0.228000   \n9          0.511   0.603    2    -7.637     1       0.0280          0.000002   \n11         0.520   0.411    9   -12.411     1       0.0315          0.001200   \n13         0.746   0.666    2   -10.408     1       0.1460          0.000000   \n\n    acousticness  liveness  valence    tempo  duration_ms  chorus_hit  \\\n1         0.0180    0.1760    0.797  101.801       213613    48.82510   \n6         0.3600    0.0963    0.591  143.507       134360    47.82155   \n9         0.0385    0.1420    0.685  128.336       157293    43.36534   \n11        0.7860    0.1460    0.350  120.290       207573    37.54527   \n13        0.5430    0.0488    0.840   94.024       192427    78.59848   \n\n    n_decade  n_genre  \n1          2        6  \n6          2        4  \n9          2        6  \n11         2        6  \n13         2        1  ",
      "text/html": "<div>\n<style scoped>\n    .dataframe tbody tr th:only-of-type {\n        vertical-align: middle;\n    }\n\n    .dataframe tbody tr th {\n        vertical-align: top;\n    }\n\n    .dataframe thead th {\n        text-align: right;\n    }\n</style>\n<table border=\"1\" class=\"dataframe\">\n  <thead>\n    <tr style=\"text-align: right;\">\n      <th></th>\n      <th>danceability</th>\n      <th>energy</th>\n      <th>key</th>\n      <th>loudness</th>\n      <th>mode</th>\n      <th>speechiness</th>\n      <th>instrumentalness</th>\n      <th>acousticness</th>\n      <th>liveness</th>\n      <th>valence</th>\n      <th>tempo</th>\n      <th>duration_ms</th>\n      <th>chorus_hit</th>\n      <th>n_decade</th>\n      <th>n_genre</th>\n    </tr>\n  </thead>\n  <tbody>\n    <tr>\n      <th>1</th>\n      <td>0.498</td>\n      <td>0.505</td>\n      <td>3</td>\n      <td>-12.475</td>\n      <td>1</td>\n      <td>0.0337</td>\n      <td>0.107000</td>\n      <td>0.0180</td>\n      <td>0.1760</td>\n      <td>0.797</td>\n      <td>101.801</td>\n      <td>213613</td>\n      <td>48.82510</td>\n      <td>2</td>\n      <td>6</td>\n    </tr>\n    <tr>\n      <th>6</th>\n      <td>0.662</td>\n      <td>0.272</td>\n      <td>0</td>\n      <td>-18.883</td>\n      <td>1</td>\n      <td>0.0313</td>\n      <td>0.228000</td>\n      <td>0.3600</td>\n      <td>0.0963</td>\n      <td>0.591</td>\n      <td>143.507</td>\n      <td>134360</td>\n      <td>47.82155</td>\n      <td>2</td>\n      <td>4</td>\n    </tr>\n    <tr>\n      <th>9</th>\n      <td>0.511</td>\n      <td>0.603</td>\n      <td>2</td>\n      <td>-7.637</td>\n      <td>1</td>\n      <td>0.0280</td>\n      <td>0.000002</td>\n      <td>0.0385</td>\n      <td>0.1420</td>\n      <td>0.685</td>\n      <td>128.336</td>\n      <td>157293</td>\n      <td>43.36534</td>\n      <td>2</td>\n      <td>6</td>\n    </tr>\n    <tr>\n      <th>11</th>\n      <td>0.520</td>\n      <td>0.411</td>\n      <td>9</td>\n      <td>-12.411</td>\n      <td>1</td>\n      <td>0.0315</td>\n      <td>0.001200</td>\n      <td>0.7860</td>\n      <td>0.1460</td>\n      <td>0.350</td>\n      <td>120.290</td>\n      <td>207573</td>\n      <td>37.54527</td>\n      <td>2</td>\n      <td>6</td>\n    </tr>\n    <tr>\n      <th>13</th>\n      <td>0.746</td>\n      <td>0.666</td>\n      <td>2</td>\n      <td>-10.408</td>\n      <td>1</td>\n      <td>0.1460</td>\n      <td>0.000000</td>\n      <td>0.5430</td>\n      <td>0.0488</td>\n      <td>0.840</td>\n      <td>94.024</td>\n      <td>192427</td>\n      <td>78.59848</td>\n      <td>2</td>\n      <td>1</td>\n    </tr>\n  </tbody>\n</table>\n</div>"
     },
     "execution_count": 504,
     "metadata": {},
     "output_type": "execute_result"
    }
   ],
   "source": [
    "le=LabelEncoder()\n",
    "sp_data_encoded=sp_data[[\"danceability\",\"energy\",\"key\",\"loudness\",\"mode\",\n",
    "                                 \"speechiness\",\"instrumentalness\",\"acousticness\",\"liveness\",\"valence\",\"tempo\",\n",
    "                                 \"duration_ms\",\"chorus_hit\",\"decade\",\"genre\"]]\n",
    "sp_data_encoded['n_decade']=le.fit_transform(sp_data_encoded['decade'])\n",
    "sp_data_encoded[\"n_genre\"]=le.fit_transform(sp_data_encoded['genre'])\n",
    "sp_data_encoded=sp_data_encoded.drop(['genre','decade'],axis=1)\n",
    "sp_data_encoded.head(5)"
   ],
   "metadata": {
    "collapsed": false,
    "pycharm": {
     "name": "#%%\n"
    }
   }
  },
  {
   "cell_type": "code",
   "execution_count": 505,
   "outputs": [
    {
     "data": {
      "text/plain": "       danceability  energy  key  loudness  mode  speechiness  \\\n14613         0.436   0.125    5   -15.433     1       0.0664   \n14635         0.485   0.442    8   -15.474     0       0.0328   \n13444         0.421   0.736    2    -8.690     1       0.0374   \n18901         0.827   0.596    0   -13.486     1       0.0559   \n1077          0.446   0.262    0   -12.076     1       0.0629   \n\n       instrumentalness  acousticness  liveness  valence    tempo  \\\n14613          0.000001        0.9570    0.1210    0.329  204.771   \n14635          0.785000        0.2630    0.1030    0.755  140.818   \n13444          0.043100        0.1320    0.0999    0.962  162.792   \n18901          0.026600        0.0744    0.0768    0.899  118.730   \n1077           0.000010        0.4800    0.1270    0.155  152.070   \n\n       duration_ms  chorus_hit  n_decade  \n14613       124227    37.88965         3  \n14635       424625    26.55848         3  \n13444       204667    24.66192         3  \n18901       249440    17.77406         4  \n1077        154733    43.15294         2  ",
      "text/html": "<div>\n<style scoped>\n    .dataframe tbody tr th:only-of-type {\n        vertical-align: middle;\n    }\n\n    .dataframe tbody tr th {\n        vertical-align: top;\n    }\n\n    .dataframe thead th {\n        text-align: right;\n    }\n</style>\n<table border=\"1\" class=\"dataframe\">\n  <thead>\n    <tr style=\"text-align: right;\">\n      <th></th>\n      <th>danceability</th>\n      <th>energy</th>\n      <th>key</th>\n      <th>loudness</th>\n      <th>mode</th>\n      <th>speechiness</th>\n      <th>instrumentalness</th>\n      <th>acousticness</th>\n      <th>liveness</th>\n      <th>valence</th>\n      <th>tempo</th>\n      <th>duration_ms</th>\n      <th>chorus_hit</th>\n      <th>n_decade</th>\n    </tr>\n  </thead>\n  <tbody>\n    <tr>\n      <th>14613</th>\n      <td>0.436</td>\n      <td>0.125</td>\n      <td>5</td>\n      <td>-15.433</td>\n      <td>1</td>\n      <td>0.0664</td>\n      <td>0.000001</td>\n      <td>0.9570</td>\n      <td>0.1210</td>\n      <td>0.329</td>\n      <td>204.771</td>\n      <td>124227</td>\n      <td>37.88965</td>\n      <td>3</td>\n    </tr>\n    <tr>\n      <th>14635</th>\n      <td>0.485</td>\n      <td>0.442</td>\n      <td>8</td>\n      <td>-15.474</td>\n      <td>0</td>\n      <td>0.0328</td>\n      <td>0.785000</td>\n      <td>0.2630</td>\n      <td>0.1030</td>\n      <td>0.755</td>\n      <td>140.818</td>\n      <td>424625</td>\n      <td>26.55848</td>\n      <td>3</td>\n    </tr>\n    <tr>\n      <th>13444</th>\n      <td>0.421</td>\n      <td>0.736</td>\n      <td>2</td>\n      <td>-8.690</td>\n      <td>1</td>\n      <td>0.0374</td>\n      <td>0.043100</td>\n      <td>0.1320</td>\n      <td>0.0999</td>\n      <td>0.962</td>\n      <td>162.792</td>\n      <td>204667</td>\n      <td>24.66192</td>\n      <td>3</td>\n    </tr>\n    <tr>\n      <th>18901</th>\n      <td>0.827</td>\n      <td>0.596</td>\n      <td>0</td>\n      <td>-13.486</td>\n      <td>1</td>\n      <td>0.0559</td>\n      <td>0.026600</td>\n      <td>0.0744</td>\n      <td>0.0768</td>\n      <td>0.899</td>\n      <td>118.730</td>\n      <td>249440</td>\n      <td>17.77406</td>\n      <td>4</td>\n    </tr>\n    <tr>\n      <th>1077</th>\n      <td>0.446</td>\n      <td>0.262</td>\n      <td>0</td>\n      <td>-12.076</td>\n      <td>1</td>\n      <td>0.0629</td>\n      <td>0.000010</td>\n      <td>0.4800</td>\n      <td>0.1270</td>\n      <td>0.155</td>\n      <td>152.070</td>\n      <td>154733</td>\n      <td>43.15294</td>\n      <td>2</td>\n    </tr>\n  </tbody>\n</table>\n</div>"
     },
     "execution_count": 505,
     "metadata": {},
     "output_type": "execute_result"
    }
   ],
   "source": [
    "trainX,testX,trainY,testY=train_test_split(\n",
    "    sp_data_encoded.drop(['n_genre'],axis=1),\n",
    "    sp_data_encoded['n_genre'])\n",
    "trainX.head(5)"
   ],
   "metadata": {
    "collapsed": false,
    "pycharm": {
     "name": "#%%\n"
    }
   }
  },
  {
   "cell_type": "code",
   "execution_count": 506,
   "outputs": [
    {
     "data": {
      "text/plain": "array([0.18192432, 0.04349864, 0.00360457, 0.01199608, 0.01133632,\n       0.19870572, 0.09878021, 0.19655519, 0.00558134, 0.02855954,\n       0.01384744, 0.04948344, 0.00391604, 0.15221114])"
     },
     "execution_count": 506,
     "metadata": {},
     "output_type": "execute_result"
    }
   ],
   "source": [
    "dt_entropy=DecisionTreeClassifier(criterion=\"entropy\",max_depth=8)\n",
    "dt_entropy.fit(trainX,trainY)\n",
    "predicted=dt_entropy.predict(testX)\n",
    "dt_entropy.feature_importances_"
   ],
   "metadata": {
    "collapsed": false,
    "pycharm": {
     "name": "#%%\n"
    }
   }
  },
  {
   "cell_type": "code",
   "execution_count": 507,
   "outputs": [
    {
     "data": {
      "text/plain": "       actual  predicted\n20584       6          6\n35718       6          6\n3936        7          4\n28298       5          5\n33159       6          7\n...       ...        ...\n8714        1          6\n31033       1          1\n32519       1          1\n39233       1          6\n24588       6          6\n\n[5077 rows x 2 columns]",
      "text/html": "<div>\n<style scoped>\n    .dataframe tbody tr th:only-of-type {\n        vertical-align: middle;\n    }\n\n    .dataframe tbody tr th {\n        vertical-align: top;\n    }\n\n    .dataframe thead th {\n        text-align: right;\n    }\n</style>\n<table border=\"1\" class=\"dataframe\">\n  <thead>\n    <tr style=\"text-align: right;\">\n      <th></th>\n      <th>actual</th>\n      <th>predicted</th>\n    </tr>\n  </thead>\n  <tbody>\n    <tr>\n      <th>20584</th>\n      <td>6</td>\n      <td>6</td>\n    </tr>\n    <tr>\n      <th>35718</th>\n      <td>6</td>\n      <td>6</td>\n    </tr>\n    <tr>\n      <th>3936</th>\n      <td>7</td>\n      <td>4</td>\n    </tr>\n    <tr>\n      <th>28298</th>\n      <td>5</td>\n      <td>5</td>\n    </tr>\n    <tr>\n      <th>33159</th>\n      <td>6</td>\n      <td>7</td>\n    </tr>\n    <tr>\n      <th>...</th>\n      <td>...</td>\n      <td>...</td>\n    </tr>\n    <tr>\n      <th>8714</th>\n      <td>1</td>\n      <td>6</td>\n    </tr>\n    <tr>\n      <th>31033</th>\n      <td>1</td>\n      <td>1</td>\n    </tr>\n    <tr>\n      <th>32519</th>\n      <td>1</td>\n      <td>1</td>\n    </tr>\n    <tr>\n      <th>39233</th>\n      <td>1</td>\n      <td>6</td>\n    </tr>\n    <tr>\n      <th>24588</th>\n      <td>6</td>\n      <td>6</td>\n    </tr>\n  </tbody>\n</table>\n<p>5077 rows × 2 columns</p>\n</div>"
     },
     "execution_count": 507,
     "metadata": {},
     "output_type": "execute_result"
    }
   ],
   "source": [
    "result_entropy=pd.DataFrame({\"actual\":testY,\"predicted\":predicted})\n",
    "result_entropy"
   ],
   "metadata": {
    "collapsed": false,
    "pycharm": {
     "name": "#%%\n"
    }
   }
  },
  {
   "cell_type": "code",
   "execution_count": 508,
   "outputs": [
    {
     "name": "stdout",
     "output_type": "stream",
     "text": [
      "0.5002954500689384\n",
      "0.5597504924491136\n"
     ]
    }
   ],
   "source": [
    "predict_train=dt_entropy.predict(trainX)\n",
    "print(accuracy_score(result_entropy['actual'],result_entropy['predicted']))\n",
    "print(accuracy_score(trainY,predict_train))"
   ],
   "metadata": {
    "collapsed": false,
    "pycharm": {
     "name": "#%%\n"
    }
   }
  },
  {
   "cell_type": "code",
   "execution_count": 509,
   "outputs": [
    {
     "data": {
      "text/plain": "col_0    blues  country  funk  hip-hop  jazz  metal   pop  rock  techno\nrow_0                                                                  \nblues        9        0     4        0    26      1    78    22       0\ncountry      0      205     1        5    17      1   250    52       0\nfunk         0        1    30       13     9      1   151    50       0\nhip-hop      0        4     3      235     6      5   135     9       0\njazz         8        5     7        3   120      3   143    41       6\nmetal        0        1     1        4     1    143    15    73       1\npop          6      111    31       95    59     17  1180   332       3\nrock         2       57    24        9    52     40   513   615       5\ntechno       0        0     1        2     1      2    12     7       3",
      "text/html": "<div>\n<style scoped>\n    .dataframe tbody tr th:only-of-type {\n        vertical-align: middle;\n    }\n\n    .dataframe tbody tr th {\n        vertical-align: top;\n    }\n\n    .dataframe thead th {\n        text-align: right;\n    }\n</style>\n<table border=\"1\" class=\"dataframe\">\n  <thead>\n    <tr style=\"text-align: right;\">\n      <th>col_0</th>\n      <th>blues</th>\n      <th>country</th>\n      <th>funk</th>\n      <th>hip-hop</th>\n      <th>jazz</th>\n      <th>metal</th>\n      <th>pop</th>\n      <th>rock</th>\n      <th>techno</th>\n    </tr>\n    <tr>\n      <th>row_0</th>\n      <th></th>\n      <th></th>\n      <th></th>\n      <th></th>\n      <th></th>\n      <th></th>\n      <th></th>\n      <th></th>\n      <th></th>\n    </tr>\n  </thead>\n  <tbody>\n    <tr>\n      <th>blues</th>\n      <td>9</td>\n      <td>0</td>\n      <td>4</td>\n      <td>0</td>\n      <td>26</td>\n      <td>1</td>\n      <td>78</td>\n      <td>22</td>\n      <td>0</td>\n    </tr>\n    <tr>\n      <th>country</th>\n      <td>0</td>\n      <td>205</td>\n      <td>1</td>\n      <td>5</td>\n      <td>17</td>\n      <td>1</td>\n      <td>250</td>\n      <td>52</td>\n      <td>0</td>\n    </tr>\n    <tr>\n      <th>funk</th>\n      <td>0</td>\n      <td>1</td>\n      <td>30</td>\n      <td>13</td>\n      <td>9</td>\n      <td>1</td>\n      <td>151</td>\n      <td>50</td>\n      <td>0</td>\n    </tr>\n    <tr>\n      <th>hip-hop</th>\n      <td>0</td>\n      <td>4</td>\n      <td>3</td>\n      <td>235</td>\n      <td>6</td>\n      <td>5</td>\n      <td>135</td>\n      <td>9</td>\n      <td>0</td>\n    </tr>\n    <tr>\n      <th>jazz</th>\n      <td>8</td>\n      <td>5</td>\n      <td>7</td>\n      <td>3</td>\n      <td>120</td>\n      <td>3</td>\n      <td>143</td>\n      <td>41</td>\n      <td>6</td>\n    </tr>\n    <tr>\n      <th>metal</th>\n      <td>0</td>\n      <td>1</td>\n      <td>1</td>\n      <td>4</td>\n      <td>1</td>\n      <td>143</td>\n      <td>15</td>\n      <td>73</td>\n      <td>1</td>\n    </tr>\n    <tr>\n      <th>pop</th>\n      <td>6</td>\n      <td>111</td>\n      <td>31</td>\n      <td>95</td>\n      <td>59</td>\n      <td>17</td>\n      <td>1180</td>\n      <td>332</td>\n      <td>3</td>\n    </tr>\n    <tr>\n      <th>rock</th>\n      <td>2</td>\n      <td>57</td>\n      <td>24</td>\n      <td>9</td>\n      <td>52</td>\n      <td>40</td>\n      <td>513</td>\n      <td>615</td>\n      <td>5</td>\n    </tr>\n    <tr>\n      <th>techno</th>\n      <td>0</td>\n      <td>0</td>\n      <td>1</td>\n      <td>2</td>\n      <td>1</td>\n      <td>2</td>\n      <td>12</td>\n      <td>7</td>\n      <td>3</td>\n    </tr>\n  </tbody>\n</table>\n</div>"
     },
     "execution_count": 509,
     "metadata": {},
     "output_type": "execute_result"
    }
   ],
   "source": [
    "result_entropy.predicted.value_counts()\n",
    "\n",
    "conf_matrix=pd.crosstab(le.inverse_transform(result_entropy['actual']),le.inverse_transform(result_entropy['predicted']))\n",
    "conf_matrix"
   ],
   "metadata": {
    "collapsed": false,
    "pycharm": {
     "name": "#%%\n"
    }
   }
  },
  {
   "cell_type": "code",
   "execution_count": 510,
   "outputs": [
    {
     "data": {
      "text/plain": "<AxesSubplot:xlabel='col_0', ylabel='row_0'>"
     },
     "execution_count": 510,
     "metadata": {},
     "output_type": "execute_result"
    },
    {
     "data": {
      "text/plain": "<Figure size 432x288 with 2 Axes>",
      "image/png": "[encoded data removed]"
     },
     "metadata": {
      "needs_background": "light"
     },
     "output_type": "display_data"
    }
   ],
   "source": [
    "sns.heatmap((conf_matrix-conf_matrix.mean())/conf_matrix.std())"
   ],
   "metadata": {
    "collapsed": false,
    "pycharm": {
     "name": "#%%\n"
    }
   }
  }
 ],
 "metadata": {
  "kernelspec": {
   "display_name": "Python 3",
   "language": "python",
   "name": "python3"
  },
  "language_info": {
   "codemirror_mode": {
    "name": "ipython",
    "version": 2
   },
   "file_extension": ".py",
   "mimetype": "text/x-python",
   "name": "python",
   "nbconvert_exporter": "python",
   "pygments_lexer": "ipython2",
   "version": "2.7.6"
  }
 },
 "nbformat": 4,
 "nbformat_minor": 0
}